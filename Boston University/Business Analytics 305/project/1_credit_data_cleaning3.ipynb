{
 "cells": [
  {
   "cell_type": "code",
   "execution_count": 3,
   "metadata": {},
   "outputs": [],
   "source": [
    "import numpy as np\n",
    "import pandas as pd\n",
    "import matplotlib.pyplot as plt\n",
    "%matplotlib inline\n",
    "import seaborn as sns\n",
    "import re"
   ]
  },
  {
   "cell_type": "code",
   "execution_count": 4,
   "metadata": {},
   "outputs": [],
   "source": [
    "pd.set_option('display.max_columns', None)"
   ]
  },
  {
   "attachments": {},
   "cell_type": "markdown",
   "metadata": {},
   "source": [
    "---\n",
    "\n",
    "## Load Data\n",
    "\n",
    "100,000 Entries with 28 columns"
   ]
  },
  {
   "cell_type": "code",
   "execution_count": 5,
   "metadata": {},
   "outputs": [
    {
     "name": "stdout",
     "output_type": "stream",
     "text": [
      "<class 'pandas.core.frame.DataFrame'>\n",
      "RangeIndex: 100000 entries, 0 to 99999\n",
      "Data columns (total 28 columns):\n",
      " #   Column                    Non-Null Count   Dtype  \n",
      "---  ------                    --------------   -----  \n",
      " 0   ID                        100000 non-null  object \n",
      " 1   Customer_ID               100000 non-null  object \n",
      " 2   Month                     100000 non-null  object \n",
      " 3   Name                      90015 non-null   object \n",
      " 4   Age                       100000 non-null  object \n",
      " 5   SSN                       100000 non-null  object \n",
      " 6   Occupation                100000 non-null  object \n",
      " 7   Annual_Income             100000 non-null  object \n",
      " 8   Monthly_Inhand_Salary     84998 non-null   float64\n",
      " 9   Num_Bank_Accounts         100000 non-null  int64  \n",
      " 10  Num_Credit_Card           100000 non-null  int64  \n",
      " 11  Interest_Rate             100000 non-null  int64  \n",
      " 12  Num_of_Loan               100000 non-null  object \n",
      " 13  Type_of_Loan              88592 non-null   object \n",
      " 14  Delay_from_due_date       100000 non-null  int64  \n",
      " 15  Num_of_Delayed_Payment    92998 non-null   object \n",
      " 16  Changed_Credit_Limit      100000 non-null  object \n",
      " 17  Num_Credit_Inquiries      98035 non-null   float64\n",
      " 18  Credit_Mix                100000 non-null  object \n",
      " 19  Outstanding_Debt          100000 non-null  object \n",
      " 20  Credit_Utilization_Ratio  100000 non-null  float64\n",
      " 21  Credit_History_Age        90970 non-null   object \n",
      " 22  Payment_of_Min_Amount     100000 non-null  object \n",
      " 23  Total_EMI_per_month       100000 non-null  float64\n",
      " 24  Amount_invested_monthly   95521 non-null   object \n",
      " 25  Payment_Behaviour         100000 non-null  object \n",
      " 26  Monthly_Balance           98800 non-null   object \n",
      " 27  Credit_Score              100000 non-null  object \n",
      "dtypes: float64(4), int64(4), object(20)\n",
      "memory usage: 21.4+ MB\n"
     ]
    },
    {
     "name": "stderr",
     "output_type": "stream",
     "text": [
      "/var/folders/h_/lxrkd3yx3w11tnfvg06j7l140000gn/T/ipykernel_5169/606350316.py:1: DtypeWarning: Columns (26) have mixed types. Specify dtype option on import or set low_memory=False.\n",
      "  df = pd.read_csv('data/credit_raw.csv')\n"
     ]
    }
   ],
   "source": [
    "df = pd.read_csv('data/credit_raw.csv')\n",
    "df.info()"
   ]
  },
  {
   "cell_type": "code",
   "execution_count": 6,
   "metadata": {},
   "outputs": [
    {
     "data": {
      "text/plain": [
       "0"
      ]
     },
     "execution_count": 6,
     "metadata": {},
     "output_type": "execute_result"
    }
   ],
   "source": [
    "# Checking duplicates before we start :)\n",
    "\n",
    "df.duplicated().sum()"
   ]
  },
  {
   "attachments": {},
   "cell_type": "markdown",
   "metadata": {},
   "source": [
    "---\n",
    "\n",
    "## 1. Pooled Data to Cross-Section Data (Get rid of time-series)"
   ]
  },
  {
   "cell_type": "code",
   "execution_count": 7,
   "metadata": {},
   "outputs": [
    {
     "data": {
      "text/plain": [
       "(100000, 27)"
      ]
     },
     "execution_count": 7,
     "metadata": {},
     "output_type": "execute_result"
    }
   ],
   "source": [
    "# Drop 'Month' column\n",
    "\n",
    "df.drop(columns='Month', inplace=True)\n",
    "df.shape"
   ]
  },
  {
   "attachments": {},
   "cell_type": "markdown",
   "metadata": {},
   "source": [
    "Must drop all variables that are related to time-series (Monthly influenced data)\n",
    "\n",
    "'Monthly_Inhand_Salary', 'Changed_Credit_Limit', 'Payment_of_Min_Amount', \n",
    "\n",
    "'Total_EMI_per_month', 'Amount_invested_monthly', 'Payment_Behaviour', 'Monthly_Balance'"
   ]
  },
  {
   "cell_type": "code",
   "execution_count": 8,
   "metadata": {},
   "outputs": [],
   "source": [
    "df.drop(columns=['Monthly_Inhand_Salary', 'Changed_Credit_Limit', 'Payment_of_Min_Amount',\n",
    "                 'Total_EMI_per_month', 'Amount_invested_monthly', 'Payment_Behaviour', 'Monthly_Balance'],\n",
    "                 inplace=True)\n"
   ]
  },
  {
   "cell_type": "code",
   "execution_count": 9,
   "metadata": {},
   "outputs": [
    {
     "data": {
      "text/plain": [
       "Index(['ID', 'Customer_ID', 'Name', 'Age', 'SSN', 'Occupation',\n",
       "       'Annual_Income', 'Num_Bank_Accounts', 'Num_Credit_Card',\n",
       "       'Interest_Rate', 'Num_of_Loan', 'Type_of_Loan', 'Delay_from_due_date',\n",
       "       'Num_of_Delayed_Payment', 'Num_Credit_Inquiries', 'Credit_Mix',\n",
       "       'Outstanding_Debt', 'Credit_Utilization_Ratio', 'Credit_History_Age',\n",
       "       'Credit_Score'],\n",
       "      dtype='object')"
      ]
     },
     "execution_count": 9,
     "metadata": {},
     "output_type": "execute_result"
    }
   ],
   "source": [
    "df.columns"
   ]
  },
  {
   "attachments": {},
   "cell_type": "markdown",
   "metadata": {},
   "source": [
    "---\n",
    "\n",
    "## 2. Drop Idenfication Variables\n",
    "\n",
    "Drop 4 Columns : 'ID', 'Customer_ID', 'Name', 'SSN'\n",
    "\n"
   ]
  },
  {
   "cell_type": "code",
   "execution_count": 10,
   "metadata": {},
   "outputs": [
    {
     "data": {
      "text/plain": [
       "Index(['Age', 'Occupation', 'Annual_Income', 'Num_Bank_Accounts',\n",
       "       'Num_Credit_Card', 'Interest_Rate', 'Num_of_Loan', 'Type_of_Loan',\n",
       "       'Delay_from_due_date', 'Num_of_Delayed_Payment', 'Num_Credit_Inquiries',\n",
       "       'Credit_Mix', 'Outstanding_Debt', 'Credit_Utilization_Ratio',\n",
       "       'Credit_History_Age', 'Credit_Score'],\n",
       "      dtype='object')"
      ]
     },
     "execution_count": 10,
     "metadata": {},
     "output_type": "execute_result"
    }
   ],
   "source": [
    "df.drop(columns= ['ID', 'Customer_ID', 'Name', 'SSN'], inplace=True)\n",
    "df.columns"
   ]
  },
  {
   "attachments": {},
   "cell_type": "markdown",
   "metadata": {},
   "source": [
    "---\n",
    "\n",
    "## 3. Drop Null Values"
   ]
  },
  {
   "cell_type": "code",
   "execution_count": 11,
   "metadata": {},
   "outputs": [
    {
     "data": {
      "text/plain": [
       "Age                             0\n",
       "Occupation                      0\n",
       "Annual_Income                   0\n",
       "Num_Bank_Accounts               0\n",
       "Num_Credit_Card                 0\n",
       "Interest_Rate                   0\n",
       "Num_of_Loan                     0\n",
       "Type_of_Loan                11408\n",
       "Delay_from_due_date             0\n",
       "Num_of_Delayed_Payment       7002\n",
       "Num_Credit_Inquiries         1965\n",
       "Credit_Mix                      0\n",
       "Outstanding_Debt                0\n",
       "Credit_Utilization_Ratio        0\n",
       "Credit_History_Age           9030\n",
       "Credit_Score                    0\n",
       "dtype: int64"
      ]
     },
     "execution_count": 11,
     "metadata": {},
     "output_type": "execute_result"
    }
   ],
   "source": [
    "df.isnull().sum()"
   ]
  },
  {
   "attachments": {},
   "cell_type": "markdown",
   "metadata": {},
   "source": [
    "#### Before we drop the rows with null values drop the unnecessary variables (with null values)"
   ]
  },
  {
   "cell_type": "code",
   "execution_count": 12,
   "metadata": {},
   "outputs": [
    {
     "data": {
      "text/plain": [
       "array(['Auto Loan, Credit-Builder Loan, Personal Loan, and Home Equity Loan',\n",
       "       'Credit-Builder Loan', 'Auto Loan, Auto Loan, and Not Specified',\n",
       "       ..., 'Home Equity Loan, Auto Loan, Auto Loan, and Auto Loan',\n",
       "       'Payday Loan, Student Loan, Mortgage Loan, and Not Specified',\n",
       "       'Personal Loan, Auto Loan, Mortgage Loan, Student Loan, and Student Loan'],\n",
       "      dtype=object)"
      ]
     },
     "execution_count": 12,
     "metadata": {},
     "output_type": "execute_result"
    }
   ],
   "source": [
    "df.Type_of_Loan.unique()"
   ]
  },
  {
   "cell_type": "code",
   "execution_count": 13,
   "metadata": {},
   "outputs": [
    {
     "data": {
      "text/plain": [
       "(100000, 15)"
      ]
     },
     "execution_count": 13,
     "metadata": {},
     "output_type": "execute_result"
    }
   ],
   "source": [
    "# Drop the column since we have Num_of_Loan\n",
    "\n",
    "df.drop(columns='Type_of_Loan', inplace=True)\n",
    "df.shape"
   ]
  },
  {
   "attachments": {},
   "cell_type": "markdown",
   "metadata": {},
   "source": [
    "The other variables seem important..."
   ]
  },
  {
   "cell_type": "code",
   "execution_count": 14,
   "metadata": {},
   "outputs": [
    {
     "data": {
      "text/plain": [
       "(82950, 15)"
      ]
     },
     "execution_count": 14,
     "metadata": {},
     "output_type": "execute_result"
    }
   ],
   "source": [
    "df.dropna(inplace=True)\n",
    "df.shape"
   ]
  },
  {
   "cell_type": "code",
   "execution_count": 15,
   "metadata": {},
   "outputs": [
    {
     "data": {
      "text/plain": [
       "RangeIndex(start=0, stop=82950, step=1)"
      ]
     },
     "execution_count": 15,
     "metadata": {},
     "output_type": "execute_result"
    }
   ],
   "source": [
    "# Reset Index (Rows have been manipulated)\n",
    "\n",
    "df.reset_index(drop=True, inplace=True)\n",
    "df.index"
   ]
  },
  {
   "attachments": {},
   "cell_type": "markdown",
   "metadata": {},
   "source": [
    "---\n",
    "\n",
    "## 4. Age\n"
   ]
  },
  {
   "cell_type": "code",
   "execution_count": 16,
   "metadata": {},
   "outputs": [
    {
     "data": {
      "text/plain": [
       "1534"
      ]
     },
     "execution_count": 16,
     "metadata": {},
     "output_type": "execute_result"
    }
   ],
   "source": [
    "# Seems like there are wrong values\n",
    "\n",
    "df.Age.nunique()"
   ]
  },
  {
   "cell_type": "code",
   "execution_count": 17,
   "metadata": {},
   "outputs": [
    {
     "data": {
      "text/plain": [
       "dtype('O')"
      ]
     },
     "execution_count": 17,
     "metadata": {},
     "output_type": "execute_result"
    }
   ],
   "source": [
    "# Type should be integer, but it's a string (object)\n",
    "\n",
    "df.Age.dtype"
   ]
  },
  {
   "cell_type": "code",
   "execution_count": 18,
   "metadata": {},
   "outputs": [
    {
     "data": {
      "text/plain": [
       "0     23\n",
       "1    500\n",
       "2     23\n",
       "3     23\n",
       "4     23\n",
       "Name: Age, dtype: int64"
      ]
     },
     "execution_count": 18,
     "metadata": {},
     "output_type": "execute_result"
    }
   ],
   "source": [
    "# Extract only the numbers and change the type to integer.\n",
    "\n",
    "df.Age = df.Age.map(lambda x: int(''.join(re.findall(r'\\d+', x))))\n",
    "df.Age.head()"
   ]
  },
  {
   "cell_type": "code",
   "execution_count": 19,
   "metadata": {},
   "outputs": [
    {
     "data": {
      "text/plain": [
       "(5.3149999999999995, 1750.8]    0.984882\n",
       "(5224.4, 6961.2]                0.003990\n",
       "(3487.6, 5224.4]                0.003797\n",
       "(1750.8, 3487.6]                0.003713\n",
       "(6961.2, 8698.0]                0.003617\n",
       "Name: Age, dtype: float64"
      ]
     },
     "execution_count": 19,
     "metadata": {},
     "output_type": "execute_result"
    }
   ],
   "source": [
    "df.Age.value_counts(normalize=True, bins=5)"
   ]
  },
  {
   "cell_type": "code",
   "execution_count": 20,
   "metadata": {},
   "outputs": [
    {
     "name": "stdout",
     "output_type": "stream",
     "text": [
      "14\n",
      "8698\n"
     ]
    }
   ],
   "source": [
    "print(df.Age.min())\n",
    "print(df.Age.max())"
   ]
  },
  {
   "cell_type": "code",
   "execution_count": 21,
   "metadata": {},
   "outputs": [
    {
     "data": {
      "text/plain": [
       "(11376, 15)"
      ]
     },
     "execution_count": 21,
     "metadata": {},
     "output_type": "execute_result"
    }
   ],
   "source": [
    "# Observations with age under 21 should be considered wrong data => Based on jobs, credit history age, etc.\n",
    "\n",
    "df.loc[df.Age<21].shape"
   ]
  },
  {
   "cell_type": "code",
   "execution_count": 22,
   "metadata": {},
   "outputs": [
    {
     "name": "stdout",
     "output_type": "stream",
     "text": [
      "(2324, 15)\n",
      "(69251, 15)\n"
     ]
    }
   ],
   "source": [
    "# Age is higher than 20 and lower than 100\n",
    "\n",
    "print(df.loc[df.Age>=100].shape)\n",
    "df = df.loc[(df.Age>20) & (df.Age<=100)]\n",
    "df.reset_index(drop=True, inplace=True)\n",
    "print(df.shape)"
   ]
  },
  {
   "cell_type": "code",
   "execution_count": 23,
   "metadata": {},
   "outputs": [
    {
     "data": {
      "image/png": "[encoded data removed]",
      "text/plain": [
       "<Figure size 1000x300 with 2 Axes>"
      ]
     },
     "metadata": {},
     "output_type": "display_data"
    }
   ],
   "source": [
    "# Looks good\n",
    "\n",
    "plt.figure(figsize=(10,3))\n",
    "\n",
    "plt.subplot(1, 2, 1)\n",
    "plt.boxplot(df.Age)\n",
    "\n",
    "plt.subplot(1, 2, 2)\n",
    "plt.hist(df.Age)\n",
    "\n",
    "plt.show()"
   ]
  },
  {
   "attachments": {},
   "cell_type": "markdown",
   "metadata": {},
   "source": [
    "---\n",
    "\n",
    "## 5. Occupation"
   ]
  },
  {
   "cell_type": "code",
   "execution_count": 24,
   "metadata": {},
   "outputs": [
    {
     "data": {
      "text/plain": [
       "_______          4882\n",
       "Lawyer           4602\n",
       "Mechanic         4412\n",
       "Scientist        4397\n",
       "Accountant       4375\n",
       "Architect        4354\n",
       "Entrepreneur     4311\n",
       "Developer        4294\n",
       "Journalist       4271\n",
       "Media_Manager    4262\n",
       "Doctor           4255\n",
       "Engineer         4244\n",
       "Teacher          4189\n",
       "Musician         4169\n",
       "Writer           4139\n",
       "Manager          4095\n",
       "Name: Occupation, dtype: int64"
      ]
     },
     "execution_count": 24,
     "metadata": {},
     "output_type": "execute_result"
    }
   ],
   "source": [
    "# 631 null values.\n",
    "\n",
    "df.Occupation.value_counts()"
   ]
  },
  {
   "cell_type": "code",
   "execution_count": 25,
   "metadata": {},
   "outputs": [
    {
     "data": {
      "text/plain": [
       "(64369, 15)"
      ]
     },
     "execution_count": 25,
     "metadata": {},
     "output_type": "execute_result"
    }
   ],
   "source": [
    "# Drop null values\n",
    "\n",
    "df = df.loc[df.Occupation != '_______']\n",
    "df.shape"
   ]
  },
  {
   "cell_type": "code",
   "execution_count": 26,
   "metadata": {},
   "outputs": [
    {
     "data": {
      "text/plain": [
       "RangeIndex(start=0, stop=64369, step=1)"
      ]
     },
     "execution_count": 26,
     "metadata": {},
     "output_type": "execute_result"
    }
   ],
   "source": [
    "# Reset Index (Rows have been manipulated)\n",
    "\n",
    "df.reset_index(drop=True, inplace=True)\n",
    "df.index"
   ]
  },
  {
   "attachments": {},
   "cell_type": "markdown",
   "metadata": {},
   "source": [
    "---\n",
    "\n",
    "## 6. Annual_Income"
   ]
  },
  {
   "cell_type": "code",
   "execution_count": 27,
   "metadata": {},
   "outputs": [
    {
     "data": {
      "text/plain": [
       "0        19114\n",
       "1        19114\n",
       "2        19114\n",
       "3        19114\n",
       "4        34847\n",
       "         ...  \n",
       "64364    39628\n",
       "64365    39628\n",
       "64366    39628\n",
       "64367    39628\n",
       "64368    39628\n",
       "Name: Annual_Income, Length: 64369, dtype: int64"
      ]
     },
     "execution_count": 27,
     "metadata": {},
     "output_type": "execute_result"
    }
   ],
   "source": [
    "# Leave only the numbers and decimal point\n",
    "# Round it to integer\n",
    "\n",
    "df.Annual_Income = df.Annual_Income.map(lambda x: int(float(''.join(re.findall(r'\\d+\\.\\d+', x)))))\n",
    "df.Annual_Income"
   ]
  },
  {
   "cell_type": "code",
   "execution_count": 28,
   "metadata": {},
   "outputs": [
    {
     "data": {
      "text/plain": [
       "(-17185.057, 4845217.2]     0.991782\n",
       "(19359850.8, 24198062.0]    0.002346\n",
       "(14521639.6, 19359850.8]    0.002206\n",
       "(9683428.4, 14521639.6]     0.001926\n",
       "(4845217.2, 9683428.4]      0.001740\n",
       "Name: Annual_Income, dtype: float64"
      ]
     },
     "execution_count": 28,
     "metadata": {},
     "output_type": "execute_result"
    }
   ],
   "source": [
    "# Outliers\n",
    "\n",
    "df.Annual_Income.value_counts(normalize=True, bins=5)"
   ]
  },
  {
   "cell_type": "code",
   "execution_count": 29,
   "metadata": {},
   "outputs": [
    {
     "data": {
      "image/png": "[encoded data removed]",
      "text/plain": [
       "<Figure size 300x300 with 1 Axes>"
      ]
     },
     "metadata": {},
     "output_type": "display_data"
    }
   ],
   "source": [
    "plt.figure(figsize=(3,3))\n",
    "plt.boxplot(df.Annual_Income.loc[df.Annual_Income<=1000000])\n",
    "plt.show()"
   ]
  },
  {
   "cell_type": "code",
   "execution_count": 30,
   "metadata": {},
   "outputs": [
    {
     "name": "stdout",
     "output_type": "stream",
     "text": [
      "629\n"
     ]
    },
    {
     "data": {
      "text/plain": [
       "(63740, 15)"
      ]
     },
     "execution_count": 30,
     "metadata": {},
     "output_type": "execute_result"
    }
   ],
   "source": [
    "# Outliers => Cutoff at 200,000 US Dollars\n",
    "\n",
    "print(df.Annual_Income.loc[df.Annual_Income>=200000].__len__())\n",
    "\n",
    "df = df.loc[df.Annual_Income<=200000]\n",
    "df.reset_index(drop=True, inplace=True)\n",
    "df.shape"
   ]
  },
  {
   "cell_type": "code",
   "execution_count": 31,
   "metadata": {},
   "outputs": [
    {
     "data": {
      "image/png": "[encoded data removed]",
      "text/plain": [
       "<Figure size 1000x300 with 2 Axes>"
      ]
     },
     "metadata": {},
     "output_type": "display_data"
    }
   ],
   "source": [
    "# Not bad for now\n",
    "\n",
    "plt.figure(figsize=(10,3))\n",
    "\n",
    "plt.subplot(1, 2, 1)\n",
    "plt.boxplot(df.Annual_Income)\n",
    "\n",
    "plt.subplot(1, 2, 2)\n",
    "plt.hist(df.Annual_Income)\n",
    "\n",
    "plt.show()"
   ]
  },
  {
   "attachments": {},
   "cell_type": "markdown",
   "metadata": {},
   "source": [
    "---\n",
    "\n",
    "## 7. Num_Bank_Accounts"
   ]
  },
  {
   "cell_type": "code",
   "execution_count": 32,
   "metadata": {},
   "outputs": [
    {
     "data": {
      "text/plain": [
       "(-2.8, 358.8]       0.989253\n",
       "(718.6, 1078.4]     0.002777\n",
       "(1438.2, 1798.0]    0.002730\n",
       "(1078.4, 1438.2]    0.002636\n",
       "(358.8, 718.6]      0.002604\n",
       "Name: Num_Bank_Accounts, dtype: float64"
      ]
     },
     "execution_count": 32,
     "metadata": {},
     "output_type": "execute_result"
    }
   ],
   "source": [
    "# Number of bank accounts distribution\n",
    "\n",
    "df.Num_Bank_Accounts.value_counts(normalize=True, bins=5)"
   ]
  },
  {
   "cell_type": "code",
   "execution_count": 33,
   "metadata": {},
   "outputs": [
    {
     "data": {
      "text/plain": [
       "(-1.101, 19.0]    0.999396\n",
       "(19.0, 39.0]      0.000270\n",
       "(39.0, 59.0]      0.000127\n",
       "(59.0, 79.0]      0.000111\n",
       "(79.0, 99.0]      0.000095\n",
       "Name: Num_Bank_Accounts, dtype: float64"
      ]
     },
     "execution_count": 33,
     "metadata": {},
     "output_type": "execute_result"
    }
   ],
   "source": [
    "# Under 100\n",
    "\n",
    "df.Num_Bank_Accounts.loc[df.Num_Bank_Accounts<=100].value_counts(normalize=True, bins=5)"
   ]
  },
  {
   "cell_type": "code",
   "execution_count": 34,
   "metadata": {},
   "outputs": [
    {
     "data": {
      "text/plain": [
       "(62888, 15)"
      ]
     },
     "execution_count": 34,
     "metadata": {},
     "output_type": "execute_result"
    }
   ],
   "source": [
    "# Drop outliers\n",
    "\n",
    "df = df.loc[df.Num_Bank_Accounts < 12]\n",
    "df.shape"
   ]
  },
  {
   "cell_type": "code",
   "execution_count": 35,
   "metadata": {},
   "outputs": [
    {
     "data": {
      "image/png": "[encoded data removed]",
      "text/plain": [
       "<Figure size 1000x300 with 2 Axes>"
      ]
     },
     "metadata": {},
     "output_type": "display_data"
    }
   ],
   "source": [
    "# Looks Good\n",
    "\n",
    "plt.figure(figsize=(10,3))\n",
    "\n",
    "plt.subplot(1, 2, 1)\n",
    "plt.boxplot(df.Num_Bank_Accounts)\n",
    "\n",
    "plt.subplot(1, 2, 2)\n",
    "plt.hist(df.Num_Bank_Accounts)\n",
    "\n",
    "plt.show()"
   ]
  },
  {
   "attachments": {},
   "cell_type": "markdown",
   "metadata": {},
   "source": [
    "---\n",
    "\n",
    "## 8. Num_Credit_Card"
   ]
  },
  {
   "cell_type": "code",
   "execution_count": 36,
   "metadata": {},
   "outputs": [
    {
     "data": {
      "text/plain": [
       "(-1.5, 299.8]       0.982079\n",
       "(599.6, 899.4]      0.004786\n",
       "(899.4, 1199.2]     0.004436\n",
       "(299.8, 599.6]      0.004421\n",
       "(1199.2, 1499.0]    0.004277\n",
       "Name: Num_Credit_Card, dtype: float64"
      ]
     },
     "execution_count": 36,
     "metadata": {},
     "output_type": "execute_result"
    }
   ],
   "source": [
    "# Number of credit card distribution\n",
    "\n",
    "df.Num_Credit_Card.value_counts(normalize=True, bins=5)"
   ]
  },
  {
   "cell_type": "code",
   "execution_count": 37,
   "metadata": {},
   "outputs": [
    {
     "data": {
      "text/plain": [
       "(-0.101, 20.0]    0.998570\n",
       "(20.0, 40.0]      0.000422\n",
       "(60.0, 80.0]      0.000406\n",
       "(80.0, 100.0]     0.000341\n",
       "(40.0, 60.0]      0.000260\n",
       "Name: Num_Credit_Card, dtype: float64"
      ]
     },
     "execution_count": 37,
     "metadata": {},
     "output_type": "execute_result"
    }
   ],
   "source": [
    "# Under 100\n",
    "\n",
    "df.Num_Credit_Card.loc[df.Num_Credit_Card<=100].value_counts(normalize=True, bins=5)"
   ]
  },
  {
   "cell_type": "code",
   "execution_count": 38,
   "metadata": {},
   "outputs": [
    {
     "data": {
      "text/plain": [
       "(61455, 15)"
      ]
     },
     "execution_count": 38,
     "metadata": {},
     "output_type": "execute_result"
    }
   ],
   "source": [
    "# Drop outliers\n",
    "\n",
    "df = df.loc[df.Num_Credit_Card <= 20]\n",
    "df.shape"
   ]
  },
  {
   "cell_type": "code",
   "execution_count": 39,
   "metadata": {},
   "outputs": [
    {
     "data": {
      "image/png": "[encoded data removed]",
      "text/plain": [
       "<Figure size 1000x300 with 2 Axes>"
      ]
     },
     "metadata": {},
     "output_type": "display_data"
    }
   ],
   "source": [
    "# Looks Good\n",
    "\n",
    "plt.figure(figsize=(10,3))\n",
    "\n",
    "plt.subplot(1, 2, 1)\n",
    "plt.boxplot(df.Num_Credit_Card)\n",
    "\n",
    "plt.subplot(1, 2, 2)\n",
    "plt.hist(df.Num_Credit_Card)\n",
    "\n",
    "plt.show()"
   ]
  },
  {
   "attachments": {},
   "cell_type": "markdown",
   "metadata": {},
   "source": [
    "---\n",
    "\n",
    "## 9. Interest_Rate"
   ]
  },
  {
   "cell_type": "code",
   "execution_count": 40,
   "metadata": {},
   "outputs": [
    {
     "name": "stdout",
     "output_type": "stream",
     "text": [
      "int64\n"
     ]
    },
    {
     "data": {
      "text/plain": [
       "(-4.797000000000001, 1160.2]    0.983061\n",
       "(3478.6, 4637.8]                0.004638\n",
       "(1160.2, 2319.4]                0.004198\n",
       "(4637.8, 5797.0]                0.004068\n",
       "(2319.4, 3478.6]                0.004035\n",
       "Name: Interest_Rate, dtype: float64"
      ]
     },
     "execution_count": 40,
     "metadata": {},
     "output_type": "execute_result"
    }
   ],
   "source": [
    "print(df.Interest_Rate.dtype)\n",
    "\n",
    "# Interest rate distribution\n",
    "\n",
    "df.Interest_Rate.value_counts(normalize=True, bins=5)"
   ]
  },
  {
   "cell_type": "code",
   "execution_count": 41,
   "metadata": {},
   "outputs": [
    {
     "data": {
      "text/plain": [
       "(0.9, 20.8]      0.789322\n",
       "(20.8, 40.6]     0.210396\n",
       "(60.4, 80.2]     0.000133\n",
       "(80.2, 100.0]    0.000133\n",
       "(40.6, 60.4]     0.000017\n",
       "Name: Interest_Rate, dtype: float64"
      ]
     },
     "execution_count": 41,
     "metadata": {},
     "output_type": "execute_result"
    }
   ],
   "source": [
    "# Under 100\n",
    "\n",
    "df.Interest_Rate.loc[df.Interest_Rate<=100].value_counts(normalize=True, bins=5)"
   ]
  },
  {
   "cell_type": "code",
   "execution_count": 42,
   "metadata": {},
   "outputs": [
    {
     "data": {
      "text/plain": [
       "(60160, 15)"
      ]
     },
     "execution_count": 42,
     "metadata": {},
     "output_type": "execute_result"
    }
   ],
   "source": [
    "# Drop outliers\n",
    "\n",
    "df = df.loc[df.Interest_Rate <= 41]\n",
    "df.shape"
   ]
  },
  {
   "cell_type": "code",
   "execution_count": 43,
   "metadata": {},
   "outputs": [
    {
     "data": {
      "text/plain": [
       "0    0.03\n",
       "1    0.03\n",
       "2    0.03\n",
       "3    0.03\n",
       "4    0.06\n",
       "Name: Interest_Rate, dtype: float64"
      ]
     },
     "execution_count": 43,
     "metadata": {},
     "output_type": "execute_result"
    }
   ],
   "source": [
    "# Interest_Rate column seems like it is written in percentage => Divide it by 100\n",
    "\n",
    "df.Interest_Rate = df.Interest_Rate.map(lambda x : x / 100)\n",
    "df.Interest_Rate.head()"
   ]
  },
  {
   "cell_type": "code",
   "execution_count": 44,
   "metadata": {},
   "outputs": [
    {
     "data": {
      "image/png": "[encoded data removed]",
      "text/plain": [
       "<Figure size 1000x300 with 2 Axes>"
      ]
     },
     "metadata": {},
     "output_type": "display_data"
    }
   ],
   "source": [
    "# Looks Good\n",
    "\n",
    "plt.figure(figsize=(10,3))\n",
    "\n",
    "plt.subplot(1, 2, 1)\n",
    "plt.boxplot(df.Interest_Rate)\n",
    "\n",
    "plt.subplot(1, 2, 2)\n",
    "plt.hist(df.Interest_Rate)\n",
    "\n",
    "plt.show()"
   ]
  },
  {
   "attachments": {},
   "cell_type": "markdown",
   "metadata": {},
   "source": [
    "---\n",
    "\n",
    "## 10. Num_of_Loan"
   ]
  },
  {
   "cell_type": "code",
   "execution_count": 45,
   "metadata": {},
   "outputs": [
    {
     "name": "stdout",
     "output_type": "stream",
     "text": [
      "object\n"
     ]
    }
   ],
   "source": [
    "print(df.Num_of_Loan.dtype)"
   ]
  },
  {
   "cell_type": "code",
   "execution_count": null,
   "metadata": {},
   "outputs": [],
   "source": []
  },
  {
   "cell_type": "code",
   "execution_count": 46,
   "metadata": {},
   "outputs": [
    {
     "data": {
      "text/plain": [
       "(-1.4809999999999999, 296.0]    0.996459\n",
       "(1184.0, 1480.0]                0.000997\n",
       "(888.0, 1184.0]                 0.000881\n",
       "(296.0, 592.0]                  0.000848\n",
       "(592.0, 888.0]                  0.000814\n",
       "Name: Num_of_Loan, dtype: float64"
      ]
     },
     "execution_count": 46,
     "metadata": {},
     "output_type": "execute_result"
    }
   ],
   "source": [
    "# Leave only integer\n",
    "\n",
    "df.Num_of_Loan = df.Num_of_Loan.map(lambda x: int(''.join(re.findall(r'\\d+', x))))\n",
    "df.Num_of_Loan.value_counts(normalize=True, bins=5)"
   ]
  },
  {
   "cell_type": "code",
   "execution_count": 47,
   "metadata": {},
   "outputs": [
    {
     "data": {
      "text/plain": [
       "(-0.101, 20.0]    0.960387\n",
       "(20.0, 40.0]      0.000083\n",
       "(40.0, 60.0]      0.000150\n",
       "(60.0, 80.0]      0.000033\n",
       "(80.0, 100.0]     0.039346\n",
       "Name: Num_of_Loan, dtype: float64"
      ]
     },
     "execution_count": 47,
     "metadata": {},
     "output_type": "execute_result"
    }
   ],
   "source": [
    "# Under 100\n",
    "\n",
    "df.Num_of_Loan.loc[df.Num_of_Loan<=100].value_counts(normalize=True, bins=5).sort_index()"
   ]
  },
  {
   "cell_type": "code",
   "execution_count": 48,
   "metadata": {},
   "outputs": [
    {
     "data": {
      "text/plain": [
       "(57532, 15)"
      ]
     },
     "execution_count": 48,
     "metadata": {},
     "output_type": "execute_result"
    }
   ],
   "source": [
    "# Drop outliers\n",
    "\n",
    "df = df.loc[df.Num_of_Loan <= 21]\n",
    "df.shape"
   ]
  },
  {
   "cell_type": "code",
   "execution_count": 49,
   "metadata": {},
   "outputs": [
    {
     "data": {
      "image/png": "[encoded data removed]",
      "text/plain": [
       "<Figure size 1000x300 with 2 Axes>"
      ]
     },
     "metadata": {},
     "output_type": "display_data"
    }
   ],
   "source": [
    "# Looks Good\n",
    "\n",
    "plt.figure(figsize=(10,3))\n",
    "\n",
    "plt.subplot(1, 2, 1)\n",
    "plt.boxplot(df.Num_of_Loan)\n",
    "\n",
    "plt.subplot(1, 2, 2)\n",
    "plt.hist(df.Num_of_Loan)\n",
    "\n",
    "plt.show()"
   ]
  },
  {
   "attachments": {},
   "cell_type": "markdown",
   "metadata": {},
   "source": [
    "---\n",
    "\n",
    "## 11. Delay_from_due_date"
   ]
  },
  {
   "cell_type": "code",
   "execution_count": 50,
   "metadata": {},
   "outputs": [
    {
     "data": {
      "text/plain": [
       "array([ 3,  5,  8,  7, 13,  0,  1,  9, 10, -1, 30, 31, 14, 11,  2, -2, 16,\n",
       "       17,  4, 15, 23, 22, 12, 18, 19, 51, 53, 48, 43, 52, 25, 20, 46, 49,\n",
       "       61, 26, 29, 28, 45,  6, 55, 56, 59, 27, 62, 54, 57, 21, 24, 65, 41,\n",
       "       39, 47, 33, 35, 34, 36, 38, 60, 63, 42, 50, 44, 40, 64, 32, 37, -3,\n",
       "       -5, 58, -4, 66, 67])"
      ]
     },
     "execution_count": 50,
     "metadata": {},
     "output_type": "execute_result"
    }
   ],
   "source": [
    "df.Delay_from_due_date.unique()"
   ]
  },
  {
   "cell_type": "code",
   "execution_count": 51,
   "metadata": {},
   "outputs": [
    {
     "data": {
      "text/plain": [
       "dtype('int64')"
      ]
     },
     "execution_count": 51,
     "metadata": {},
     "output_type": "execute_result"
    }
   ],
   "source": [
    "df.Delay_from_due_date.dtype"
   ]
  },
  {
   "cell_type": "code",
   "execution_count": 52,
   "metadata": {},
   "outputs": [
    {
     "data": {
      "text/plain": [
       "array([ 3,  5,  8,  7, 13,  0,  1,  9, 10, 30, 31, 14, 11,  2, 16, 17,  4,\n",
       "       15, 23, 22, 12, 18, 19, 51, 53, 48, 43, 52, 25, 20, 46, 49, 61, 26,\n",
       "       29, 28, 45,  6, 55, 56, 59, 27, 62, 54, 57, 21, 24, 65, 41, 39, 47,\n",
       "       33, 35, 34, 36, 38, 60, 63, 42, 50, 44, 40, 64, 32, 37, 58, 66, 67])"
      ]
     },
     "execution_count": 52,
     "metadata": {},
     "output_type": "execute_result"
    }
   ],
   "source": [
    "# Change negative values to 0\n",
    "# Reason: This column represents the average number of days delayed from the payment date.\n",
    "# If you're average is negative, it means there was no delay (Early payment) = 0\n",
    "\n",
    "df.Delay_from_due_date = df.Delay_from_due_date.map(lambda x : 0 if x < 0 else x)\n",
    "df.Delay_from_due_date.unique()"
   ]
  },
  {
   "cell_type": "code",
   "execution_count": 53,
   "metadata": {},
   "outputs": [
    {
     "data": {
      "image/png": "[encoded data removed]",
      "text/plain": [
       "<Figure size 1000x300 with 2 Axes>"
      ]
     },
     "metadata": {},
     "output_type": "display_data"
    }
   ],
   "source": [
    "# Looks Alright\n",
    "\n",
    "plt.figure(figsize=(10,3))\n",
    "\n",
    "plt.subplot(1, 2, 1)\n",
    "plt.boxplot(df.Delay_from_due_date)\n",
    "\n",
    "plt.subplot(1, 2, 2)\n",
    "plt.hist(df.Delay_from_due_date)\n",
    "\n",
    "plt.show()"
   ]
  },
  {
   "attachments": {},
   "cell_type": "markdown",
   "metadata": {},
   "source": [
    "---\n",
    "\n",
    "## 12. Num_of_Delayed_Payment"
   ]
  },
  {
   "cell_type": "code",
   "execution_count": 54,
   "metadata": {},
   "outputs": [],
   "source": [
    "# NOTE: This column is very similar to one above (Delay_from_due_date). Might drop it later."
   ]
  },
  {
   "cell_type": "code",
   "execution_count": 55,
   "metadata": {},
   "outputs": [
    {
     "data": {
      "text/plain": [
       "array(['7', '4', '8_', '1', '3_', '0', '6', '3', '9', '15', '17', '2',\n",
       "       '14', '11', '8', '20', '22', '10', '13', '13_', '14_', '16', '12',\n",
       "       '12_', '18', '19', '23', '21', '3318', '3083', '1338', '24', '5',\n",
       "       '25', '183_', '-1', '22_', '19_', '23_', '2672', '20_', '4_',\n",
       "       '2008', '538', '10_', '1_', '16_', '3478', '2420', '15_', '707',\n",
       "       '26_', '18_', '11_', '26', '28', '17_', '27', '5_', '-2', '1867',\n",
       "       '2250', '1463', '-3', '7_', '1941', '306', '9_', '0_', '6_',\n",
       "       '3539', '3684', '1823', '1946', '827', '2297', '2566', '2503',\n",
       "       '2812', '1697', '851', '3905', '923', '1668', '3253', '21_',\n",
       "       '2689', '3858', '642', '3457', '3154', '3037', '3103', '1063',\n",
       "       '2569_', '25_', '211', '793', '3484', '3491', '2_', '3050', '2162',\n",
       "       '27_', '1718', '3855', '84', '3251', '1832', '4069', '3010', '733',\n",
       "       '4241', '166', '24_', '2461', '1749', '3200', '2185', '4161',\n",
       "       '3009', '359', '2015', '1523', '594', '1199', '1015', '281', '559',\n",
       "       '779', '-2_', '2323', '1471', '3529', '3456', '3179', '1332',\n",
       "       '3175', '3112', '829', '4022', '4023', '531', '3092', '2400',\n",
       "       '3621', '3536', '544', '1864', '28_', '142', '2300', '72', '497',\n",
       "       '398', '2222', '3960', '3043', '4216', '2903', '2658', '-1_',\n",
       "       '1323_', '921', '1328', '2438', '809', '1996', '1370', '1204',\n",
       "       '2167', '4011', '2594', '2533', '1663', '1018', '3316', '2589',\n",
       "       '2529', '2488', '4266', '739', '290', '674', '2450', '3738',\n",
       "       '1792', '775', '960', '1706', '2493', '192', '3031', '2794_',\n",
       "       '2219_', '1849', '3559', '2657', '2694', '2677', '2413', '2609',\n",
       "       '4326', '4211', '823', '2860', '4219', '1531', '4024', '1673',\n",
       "       '49', '2243', '1685', '3489', '1164', '2616', '848_', '4134',\n",
       "       '1530', '1502', '4075', '2697', '3845', '640', '2230', '1795',\n",
       "       '1180', '1534', '3739', '2628', '4191', '996', '372', '787',\n",
       "       '4135', '1766', '1359', '3107', '1263', '709', '3632', '4077',\n",
       "       '2943', '3191', '2317', '1640', '2237_', '847', '3978', '1833',\n",
       "       '2737', '1192', '1481', '271', '2286', '273', '1478', '3749',\n",
       "       '2959', '3097_', '3511', '2196', '2149', '1874', '3222', '1222',\n",
       "       '2907', '3051', '1598', '416', '2314', '2955', '1636', '80',\n",
       "       '3708', '195', '320', '2945', '1911', '3796', '2255', '4397',\n",
       "       '3776', '2148', '853', '1178', '1633', '1687', '1034', '2044',\n",
       "       '3661', '1211', '2007', '102', '1891', '3162', '3142', '3881',\n",
       "       '2728', '3840_', '3119', '4185', '683', '1614', '3447', '1852',\n",
       "       '2131', '1900', '1699', '508', '2604', '1411', '2351', '2352',\n",
       "       '1191', '905', '4053', '3869', '933', '3660', '3629', '3208',\n",
       "       '2142', '2521', '450', '583', '876', '2560', '2578', '1236',\n",
       "       '1489', '4360', '1154', '3909', '2712', '3171', '1750', '197',\n",
       "       '2569', '887', '2397', '4337', '4249', '2950', '1859', '107',\n",
       "       '2348', '2810', '3078', '3105', '1278', '2879', '2141', '223',\n",
       "       '2756', '1181', '1184', '2617', '3972', '2334', '4169', '2280',\n",
       "       '1825', '309', '2431', '3099', '2080', '2666', '3722', '529',\n",
       "       '1985', '3060', '4278', '3212', '3467', '3790', '2324', '2381',\n",
       "       '371', '3880', '2991', '4319', '1061', '662', '4144', '2006',\n",
       "       '3751', '4262', '800', '3766', '1086', '1087_', '3522', '3274',\n",
       "       '3488', '238', '351', '3706', '4095', '2926', '1329', '3370',\n",
       "       '283', '2429', '974', '4388', '4282', '4281', '3415', '3815',\n",
       "       '441', '94', '3499', '1004', '3946', '2956', '4113', '2801',\n",
       "       '1172', '2553', '1765', '3495', '1392', '4239', '1295_', '2636',\n",
       "       '4295', '1325', '1096', '1735', '1975', '3827', '2552', '3754',\n",
       "       '532', '2376', '778', '2621', '804', '3926', '3861_', '3574',\n",
       "       '175', '162', '2834', '3765', '3355', '2274', '1606', '1443',\n",
       "       '1354', '2142_', '1422', '4231', '2278', '1045', '4106', '666',\n",
       "       '3229', '1473_', '2384', '1954', '719', '2534', '4002', '541',\n",
       "       '2875', '4344', '1256', '676', '399', '86', '1571', '4037', '1967',\n",
       "       '4005', '2671', '1150', '1801', '1775', '2260', '3707', '4292',\n",
       "       '1820', '145', '1480', '1850', '430', '1579', '3336', '3392',\n",
       "       '3688', '221', '2047'], dtype=object)"
      ]
     },
     "execution_count": 55,
     "metadata": {},
     "output_type": "execute_result"
    }
   ],
   "source": [
    "df.Num_of_Delayed_Payment.unique()"
   ]
  },
  {
   "cell_type": "code",
   "execution_count": 56,
   "metadata": {},
   "outputs": [],
   "source": [
    "# Leave only integer\n",
    "\n",
    "df.Num_of_Delayed_Payment = df.Num_of_Delayed_Payment.map(lambda x: int(''.join(re.findall(r'\\d+', x))))"
   ]
  },
  {
   "cell_type": "code",
   "execution_count": 57,
   "metadata": {},
   "outputs": [
    {
     "data": {
      "text/plain": [
       "(-4.398000000000001, 879.4]    0.993499\n",
       "(1758.8, 2638.2]               0.001895\n",
       "(879.4, 1758.8]                0.001547\n",
       "(2638.2, 3517.6]               0.001530\n",
       "(3517.6, 4397.0]               0.001530\n",
       "Name: Num_of_Delayed_Payment, dtype: float64"
      ]
     },
     "execution_count": 57,
     "metadata": {},
     "output_type": "execute_result"
    }
   ],
   "source": [
    "df.Num_of_Delayed_Payment.value_counts(normalize=True, bins=5)"
   ]
  },
  {
   "cell_type": "code",
   "execution_count": 58,
   "metadata": {},
   "outputs": [
    {
     "data": {
      "text/plain": [
       "(-0.095, 18.8]    0.780982\n",
       "(18.8, 37.6]      0.218913\n",
       "(37.6, 56.4]      0.000018\n",
       "(56.4, 75.2]      0.000018\n",
       "(75.2, 94.0]      0.000070\n",
       "Name: Num_of_Delayed_Payment, dtype: float64"
      ]
     },
     "execution_count": 58,
     "metadata": {},
     "output_type": "execute_result"
    }
   ],
   "source": [
    "# Under 100\n",
    "\n",
    "df.Num_of_Delayed_Payment.loc[df.Num_of_Delayed_Payment<=100].value_counts(normalize=True, bins=5).sort_index()"
   ]
  },
  {
   "cell_type": "code",
   "execution_count": 59,
   "metadata": {},
   "outputs": [
    {
     "data": {
      "text/plain": [
       "(57532, 15)"
      ]
     },
     "execution_count": 59,
     "metadata": {},
     "output_type": "execute_result"
    }
   ],
   "source": [
    "df.shape"
   ]
  },
  {
   "cell_type": "code",
   "execution_count": 60,
   "metadata": {},
   "outputs": [
    {
     "data": {
      "text/plain": [
       "(57076, 15)"
      ]
     },
     "execution_count": 60,
     "metadata": {},
     "output_type": "execute_result"
    }
   ],
   "source": [
    "# Drop outliers\n",
    "\n",
    "df = df.loc[df.Num_of_Delayed_Payment <= 28]\n",
    "df.shape"
   ]
  },
  {
   "cell_type": "code",
   "execution_count": 61,
   "metadata": {},
   "outputs": [
    {
     "data": {
      "image/png": "[encoded data removed]",
      "text/plain": [
       "<Figure size 1000x300 with 2 Axes>"
      ]
     },
     "metadata": {},
     "output_type": "display_data"
    }
   ],
   "source": [
    "# Looks Good\n",
    "\n",
    "plt.figure(figsize=(10,3))\n",
    "\n",
    "plt.subplot(1, 2, 1)\n",
    "plt.boxplot(df.Num_of_Delayed_Payment)\n",
    "\n",
    "plt.subplot(1, 2, 2)\n",
    "plt.hist(df.Num_of_Delayed_Payment)\n",
    "\n",
    "plt.show()"
   ]
  },
  {
   "attachments": {},
   "cell_type": "markdown",
   "metadata": {},
   "source": [
    "---\n",
    "\n",
    "## 13. Num_Credit_Inquiries"
   ]
  },
  {
   "cell_type": "code",
   "execution_count": 62,
   "metadata": {},
   "outputs": [
    {
     "name": "stdout",
     "output_type": "stream",
     "text": [
      "float64\n"
     ]
    }
   ],
   "source": [
    "# Change floats to integer\n",
    "\n",
    "print(df.Num_Credit_Inquiries.dtype)\n",
    "df.Num_Credit_Inquiries = df.Num_Credit_Inquiries.astype(int)"
   ]
  },
  {
   "cell_type": "code",
   "execution_count": 63,
   "metadata": {},
   "outputs": [
    {
     "data": {
      "text/plain": [
       "(-2.593, 518.4]     0.986509\n",
       "(1036.8, 1555.2]    0.003942\n",
       "(518.4, 1036.8]     0.003364\n",
       "(2073.6, 2592.0]    0.003311\n",
       "(1555.2, 2073.6]    0.002873\n",
       "Name: Num_Credit_Inquiries, dtype: float64"
      ]
     },
     "execution_count": 63,
     "metadata": {},
     "output_type": "execute_result"
    }
   ],
   "source": [
    "df.Num_Credit_Inquiries.value_counts(normalize=True, bins=5)"
   ]
  },
  {
   "cell_type": "code",
   "execution_count": 64,
   "metadata": {},
   "outputs": [
    {
     "data": {
      "text/plain": [
       "(-0.088, 17.4]    0.999537\n",
       "(17.4, 34.8]      0.000071\n",
       "(34.8, 52.2]      0.000089\n",
       "(52.2, 69.6]      0.000160\n",
       "(69.6, 87.0]      0.000142\n",
       "Name: Num_Credit_Inquiries, dtype: float64"
      ]
     },
     "execution_count": 64,
     "metadata": {},
     "output_type": "execute_result"
    }
   ],
   "source": [
    "# Under 100\n",
    "\n",
    "df.Num_Credit_Inquiries.loc[df.Num_Credit_Inquiries<=100].value_counts(normalize=True, bins=5).sort_index()"
   ]
  },
  {
   "cell_type": "code",
   "execution_count": 65,
   "metadata": {},
   "outputs": [
    {
     "data": {
      "text/plain": [
       "(57076, 15)"
      ]
     },
     "execution_count": 65,
     "metadata": {},
     "output_type": "execute_result"
    }
   ],
   "source": [
    "df.shape"
   ]
  },
  {
   "cell_type": "code",
   "execution_count": 66,
   "metadata": {},
   "outputs": [
    {
     "data": {
      "text/plain": [
       "(55979, 15)"
      ]
     },
     "execution_count": 66,
     "metadata": {},
     "output_type": "execute_result"
    }
   ],
   "source": [
    "# Drop outliers\n",
    "\n",
    "df = df.loc[df.Num_Credit_Inquiries <= 16]\n",
    "df.shape"
   ]
  },
  {
   "cell_type": "code",
   "execution_count": 67,
   "metadata": {},
   "outputs": [
    {
     "data": {
      "image/png": "[encoded data removed]",
      "text/plain": [
       "<Figure size 1000x300 with 2 Axes>"
      ]
     },
     "metadata": {},
     "output_type": "display_data"
    }
   ],
   "source": [
    "# Looks Good\n",
    "\n",
    "plt.figure(figsize=(10,3))\n",
    "\n",
    "plt.subplot(1, 2, 1)\n",
    "plt.boxplot(df.Num_Credit_Inquiries)\n",
    "\n",
    "plt.subplot(1, 2, 2)\n",
    "plt.hist(df.Num_Credit_Inquiries)\n",
    "\n",
    "plt.show()"
   ]
  },
  {
   "attachments": {},
   "cell_type": "markdown",
   "metadata": {},
   "source": [
    "---\n",
    "\n",
    "## 14. Credit_Mix"
   ]
  },
  {
   "cell_type": "code",
   "execution_count": 68,
   "metadata": {},
   "outputs": [
    {
     "data": {
      "text/plain": [
       "array(['_', 'Good', 'Standard', 'Bad'], dtype=object)"
      ]
     },
     "execution_count": 68,
     "metadata": {},
     "output_type": "execute_result"
    }
   ],
   "source": [
    "df.Credit_Mix.unique()"
   ]
  },
  {
   "cell_type": "code",
   "execution_count": 69,
   "metadata": {},
   "outputs": [
    {
     "data": {
      "text/plain": [
       "11466"
      ]
     },
     "execution_count": 69,
     "metadata": {},
     "output_type": "execute_result"
    }
   ],
   "source": [
    "# Null Values\n",
    "\n",
    "df.loc[df.Credit_Mix == '_'].__len__()"
   ]
  },
  {
   "cell_type": "code",
   "execution_count": 70,
   "metadata": {},
   "outputs": [
    {
     "data": {
      "text/plain": [
       "(55979, 15)"
      ]
     },
     "execution_count": 70,
     "metadata": {},
     "output_type": "execute_result"
    }
   ],
   "source": [
    "df.shape"
   ]
  },
  {
   "cell_type": "code",
   "execution_count": 71,
   "metadata": {},
   "outputs": [
    {
     "data": {
      "text/plain": [
       "(44513, 15)"
      ]
     },
     "execution_count": 71,
     "metadata": {},
     "output_type": "execute_result"
    }
   ],
   "source": [
    "# NOTE Should I drop this? There are many observations... Let's drop it for now\n",
    "\n",
    "df = df.loc[df.Credit_Mix != '_']\n",
    "df.shape"
   ]
  },
  {
   "cell_type": "code",
   "execution_count": 72,
   "metadata": {},
   "outputs": [
    {
     "data": {
      "text/plain": [
       "RangeIndex(start=0, stop=44513, step=1)"
      ]
     },
     "execution_count": 72,
     "metadata": {},
     "output_type": "execute_result"
    }
   ],
   "source": [
    "# Reset Index (Rows have been manipulated)\n",
    "\n",
    "df.reset_index(drop=True, inplace=True)\n",
    "df.index"
   ]
  },
  {
   "cell_type": "code",
   "execution_count": 73,
   "metadata": {},
   "outputs": [
    {
     "data": {
      "image/png": "[encoded data removed]",
      "text/plain": [
       "<Figure size 200x200 with 1 Axes>"
      ]
     },
     "metadata": {},
     "output_type": "display_data"
    }
   ],
   "source": [
    "plt.figure(figsize=(2,2))\n",
    "plt.hist(df.Credit_Mix)\n",
    "plt.show()"
   ]
  },
  {
   "attachments": {},
   "cell_type": "markdown",
   "metadata": {},
   "source": [
    "---\n",
    "\n",
    "## 15. Outstanding_Debt"
   ]
  },
  {
   "cell_type": "code",
   "execution_count": 74,
   "metadata": {},
   "outputs": [
    {
     "data": {
      "text/plain": [
       "array(['809.98', '605.03', '1303.01', ..., '3571.7_', '3571.7', '502.38'],\n",
       "      dtype=object)"
      ]
     },
     "execution_count": 74,
     "metadata": {},
     "output_type": "execute_result"
    }
   ],
   "source": [
    "df.Outstanding_Debt.unique()"
   ]
  },
  {
   "cell_type": "code",
   "execution_count": 75,
   "metadata": {},
   "outputs": [],
   "source": [
    "# Leave only the numbers and decimal point\n",
    "# Round it to integer\n",
    "\n",
    "df.Outstanding_Debt = df.Outstanding_Debt.map(lambda x: int(float(''.join(re.findall(r'\\d+\\.\\d+', x)))))"
   ]
  },
  {
   "cell_type": "code",
   "execution_count": 76,
   "metadata": {},
   "outputs": [
    {
     "data": {
      "text/plain": [
       "(-4.9990000000000006, 999.6]    0.452699\n",
       "(999.6, 1999.2]                 0.327208\n",
       "(1999.2, 2998.8]                0.119538\n",
       "(2998.8, 3998.4]                0.051738\n",
       "(3998.4, 4998.0]                0.048817\n",
       "Name: Outstanding_Debt, dtype: float64"
      ]
     },
     "execution_count": 76,
     "metadata": {},
     "output_type": "execute_result"
    }
   ],
   "source": [
    "# No huge outliers...\n",
    "\n",
    "df.Outstanding_Debt.value_counts(normalize=True, bins=5).sort_index()"
   ]
  },
  {
   "cell_type": "code",
   "execution_count": 77,
   "metadata": {},
   "outputs": [
    {
     "data": {
      "image/png": "[encoded data removed]",
      "text/plain": [
       "<Figure size 1000x300 with 2 Axes>"
      ]
     },
     "metadata": {},
     "output_type": "display_data"
    }
   ],
   "source": [
    "# Looks Alright\n",
    "\n",
    "plt.figure(figsize=(10,3))\n",
    "\n",
    "plt.subplot(1, 2, 1)\n",
    "plt.boxplot(df.Outstanding_Debt)\n",
    "\n",
    "plt.subplot(1, 2, 2)\n",
    "plt.hist(df.Outstanding_Debt)\n",
    "\n",
    "plt.show()"
   ]
  },
  {
   "cell_type": "code",
   "execution_count": 78,
   "metadata": {},
   "outputs": [
    {
     "data": {
      "text/plain": [
       "Index(['Age', 'Occupation', 'Annual_Income', 'Num_Bank_Accounts',\n",
       "       'Num_Credit_Card', 'Interest_Rate', 'Num_of_Loan',\n",
       "       'Delay_from_due_date', 'Num_of_Delayed_Payment', 'Num_Credit_Inquiries',\n",
       "       'Credit_Mix', 'Outstanding_Debt', 'Credit_Utilization_Ratio',\n",
       "       'Credit_History_Age', 'Credit_Score'],\n",
       "      dtype='object')"
      ]
     },
     "execution_count": 78,
     "metadata": {},
     "output_type": "execute_result"
    }
   ],
   "source": [
    "df.columns"
   ]
  },
  {
   "attachments": {},
   "cell_type": "markdown",
   "metadata": {},
   "source": [
    "---\n",
    "\n",
    "## 16. Credit_Utilization_Ratio"
   ]
  },
  {
   "cell_type": "code",
   "execution_count": 79,
   "metadata": {},
   "outputs": [
    {
     "data": {
      "text/plain": [
       "dtype('float64')"
      ]
     },
     "execution_count": 79,
     "metadata": {},
     "output_type": "execute_result"
    }
   ],
   "source": [
    "df.Credit_Utilization_Ratio.dtype"
   ]
  },
  {
   "cell_type": "code",
   "execution_count": 80,
   "metadata": {},
   "outputs": [],
   "source": [
    "# Divide by 100 and round it to the 100th\n",
    "\n",
    "df.Credit_Utilization_Ratio = df.Credit_Utilization_Ratio.map(lambda x : round(x/100, ndigits=2))"
   ]
  },
  {
   "cell_type": "code",
   "execution_count": 81,
   "metadata": {},
   "outputs": [
    {
     "data": {
      "text/plain": [
       "array([0.31, 0.27, 0.23, 0.39, 0.35, 0.33, 0.42, 0.38, 0.32, 0.41, 0.29,\n",
       "       0.26, 0.3 , 0.43, 0.28, 0.37, 0.36, 0.4 , 0.25, 0.34, 0.45, 0.24,\n",
       "       0.44, 0.46, 0.22, 0.2 , 0.21, 0.5 , 0.47, 0.48])"
      ]
     },
     "execution_count": 81,
     "metadata": {},
     "output_type": "execute_result"
    }
   ],
   "source": [
    "df.Credit_Utilization_Ratio.unique()"
   ]
  },
  {
   "cell_type": "code",
   "execution_count": 82,
   "metadata": {},
   "outputs": [
    {
     "data": {
      "image/png": "[encoded data removed]",
      "text/plain": [
       "<Figure size 1000x300 with 2 Axes>"
      ]
     },
     "metadata": {},
     "output_type": "display_data"
    }
   ],
   "source": [
    "# Looks Good\n",
    "\n",
    "plt.figure(figsize=(10,3))\n",
    "\n",
    "plt.subplot(1, 2, 1)\n",
    "plt.boxplot(df.Credit_Utilization_Ratio)\n",
    "\n",
    "plt.subplot(1, 2, 2)\n",
    "plt.hist(df.Credit_Utilization_Ratio)\n",
    "\n",
    "plt.show()"
   ]
  },
  {
   "attachments": {},
   "cell_type": "markdown",
   "metadata": {},
   "source": [
    "---\n",
    "\n",
    "## 17. Credit_History_Age"
   ]
  },
  {
   "cell_type": "code",
   "execution_count": 83,
   "metadata": {},
   "outputs": [
    {
     "data": {
      "text/plain": [
       "0     22 Years and 4 Months\n",
       "1     22 Years and 6 Months\n",
       "2     22 Years and 7 Months\n",
       "3     26 Years and 8 Months\n",
       "4    26 Years and 10 Months\n",
       "Name: Credit_History_Age, dtype: object"
      ]
     },
     "execution_count": 83,
     "metadata": {},
     "output_type": "execute_result"
    }
   ],
   "source": [
    "df.Credit_History_Age.head()"
   ]
  },
  {
   "cell_type": "code",
   "execution_count": 84,
   "metadata": {},
   "outputs": [],
   "source": [
    "# Change '00 Years and 00 Months' to integer which represents the calculated month.\n",
    "\n",
    "df.Credit_History_Age = df.Credit_History_Age.map(lambda x : ((int(str(x).split()[0]) * 12) + int(str(x).split()[3])))"
   ]
  },
  {
   "cell_type": "code",
   "execution_count": 85,
   "metadata": {},
   "outputs": [
    {
     "data": {
      "image/png": "[encoded data removed]",
      "text/plain": [
       "<Figure size 1000x300 with 2 Axes>"
      ]
     },
     "metadata": {},
     "output_type": "display_data"
    }
   ],
   "source": [
    "# Looks Good\n",
    "\n",
    "plt.figure(figsize=(10,3))\n",
    "\n",
    "plt.subplot(1, 2, 1)\n",
    "plt.boxplot(df.Credit_History_Age)\n",
    "\n",
    "plt.subplot(1, 2, 2)\n",
    "plt.hist(df.Credit_History_Age)\n",
    "\n",
    "plt.show()"
   ]
  },
  {
   "attachments": {},
   "cell_type": "markdown",
   "metadata": {},
   "source": [
    "---\n",
    "\n",
    "## 18. Credit Score\n",
    "\n",
    "FINALLY, THE DEPENDENT VARIABLE!"
   ]
  },
  {
   "cell_type": "code",
   "execution_count": 88,
   "metadata": {},
   "outputs": [
    {
     "data": {
      "text/plain": [
       "Standard    23727\n",
       "Poor        12368\n",
       "Good         8418\n",
       "Name: Credit_Score, dtype: int64"
      ]
     },
     "execution_count": 88,
     "metadata": {},
     "output_type": "execute_result"
    }
   ],
   "source": [
    "df.Credit_Score.value_counts()"
   ]
  },
  {
   "cell_type": "code",
   "execution_count": 92,
   "metadata": {},
   "outputs": [
    {
     "data": {
      "text/plain": [
       "Poor    12368\n",
       "Good     8418\n",
       "Name: Credit_Score, dtype: int64"
      ]
     },
     "execution_count": 92,
     "metadata": {},
     "output_type": "execute_result"
    }
   ],
   "source": [
    "df = df.loc[df.Credit_Score.isin(['Good', 'Poor'])]\n",
    "df.Credit_Score.value_counts()"
   ]
  },
  {
   "cell_type": "code",
   "execution_count": 93,
   "metadata": {},
   "outputs": [
    {
     "data": {
      "text/plain": [
       "RangeIndex(start=0, stop=20786, step=1)"
      ]
     },
     "execution_count": 93,
     "metadata": {},
     "output_type": "execute_result"
    }
   ],
   "source": [
    "# Reset Index (Rows have been manipulated)\n",
    "\n",
    "df.reset_index(drop=True, inplace=True)\n",
    "df.index"
   ]
  },
  {
   "cell_type": "code",
   "execution_count": 94,
   "metadata": {},
   "outputs": [
    {
     "data": {
      "text/plain": [
       "0    1\n",
       "1    1\n",
       "2    1\n",
       "3    1\n",
       "4    1\n",
       "Name: Credit_Score, dtype: int64"
      ]
     },
     "execution_count": 94,
     "metadata": {},
     "output_type": "execute_result"
    }
   ],
   "source": [
    "# Change 'Credit_Score' dependent variable into a discrete variable\n",
    "# 1 - Good\n",
    "# 0 - Poor\n",
    "\n",
    "df.Credit_Score = df.Credit_Score.map(lambda x : 1 if x=='Good' else 0)\n",
    "df.Credit_Score.head()"
   ]
  },
  {
   "cell_type": "code",
   "execution_count": 95,
   "metadata": {},
   "outputs": [
    {
     "data": {
      "image/png": "[encoded data removed]",
      "text/plain": [
       "<Figure size 300x300 with 1 Axes>"
      ]
     },
     "metadata": {},
     "output_type": "display_data"
    }
   ],
   "source": [
    "# Looks Good\n",
    "\n",
    "plt.figure(figsize=(3,3))\n",
    "\n",
    "plt.hist(df.Credit_Score)\n",
    "\n",
    "plt.show()"
   ]
  },
  {
   "attachments": {},
   "cell_type": "markdown",
   "metadata": {},
   "source": [
    "---"
   ]
  },
  {
   "cell_type": "code",
   "execution_count": 96,
   "metadata": {},
   "outputs": [
    {
     "name": "stdout",
     "output_type": "stream",
     "text": [
      "<class 'pandas.core.frame.DataFrame'>\n",
      "RangeIndex: 20786 entries, 0 to 20785\n",
      "Data columns (total 15 columns):\n",
      " #   Column                    Non-Null Count  Dtype  \n",
      "---  ------                    --------------  -----  \n",
      " 0   Age                       20786 non-null  int64  \n",
      " 1   Occupation                20786 non-null  object \n",
      " 2   Annual_Income             20786 non-null  int64  \n",
      " 3   Num_Bank_Accounts         20786 non-null  int64  \n",
      " 4   Num_Credit_Card           20786 non-null  int64  \n",
      " 5   Interest_Rate             20786 non-null  float64\n",
      " 6   Num_of_Loan               20786 non-null  int64  \n",
      " 7   Delay_from_due_date       20786 non-null  int64  \n",
      " 8   Num_of_Delayed_Payment    20786 non-null  int64  \n",
      " 9   Num_Credit_Inquiries      20786 non-null  int64  \n",
      " 10  Credit_Mix                20786 non-null  object \n",
      " 11  Outstanding_Debt          20786 non-null  int64  \n",
      " 12  Credit_Utilization_Ratio  20786 non-null  float64\n",
      " 13  Credit_History_Age        20786 non-null  int64  \n",
      " 14  Credit_Score              20786 non-null  int64  \n",
      "dtypes: float64(2), int64(11), object(2)\n",
      "memory usage: 2.4+ MB\n"
     ]
    }
   ],
   "source": [
    "df.info()"
   ]
  },
  {
   "cell_type": "code",
   "execution_count": 97,
   "metadata": {},
   "outputs": [],
   "source": [
    "# NOTE 3 Categorical Variables and 12 Numerical Variables\n",
    "#      5610 Observations and No missing values"
   ]
  },
  {
   "cell_type": "code",
   "execution_count": 98,
   "metadata": {},
   "outputs": [],
   "source": [
    "df.to_csv('data/cleaned_credit_data3.csv', index=False)"
   ]
  },
  {
   "cell_type": "code",
   "execution_count": 99,
   "metadata": {},
   "outputs": [
    {
     "data": {
      "text/html": [
       "<div>\n",
       "<style scoped>\n",
       "    .dataframe tbody tr th:only-of-type {\n",
       "        vertical-align: middle;\n",
       "    }\n",
       "\n",
       "    .dataframe tbody tr th {\n",
       "        vertical-align: top;\n",
       "    }\n",
       "\n",
       "    .dataframe thead th {\n",
       "        text-align: right;\n",
       "    }\n",
       "</style>\n",
       "<table border=\"1\" class=\"dataframe\">\n",
       "  <thead>\n",
       "    <tr style=\"text-align: right;\">\n",
       "      <th></th>\n",
       "      <th>Age</th>\n",
       "      <th>Occupation</th>\n",
       "      <th>Annual_Income</th>\n",
       "      <th>Num_Bank_Accounts</th>\n",
       "      <th>Num_Credit_Card</th>\n",
       "      <th>Interest_Rate</th>\n",
       "      <th>Num_of_Loan</th>\n",
       "      <th>Delay_from_due_date</th>\n",
       "      <th>Num_of_Delayed_Payment</th>\n",
       "      <th>Num_Credit_Inquiries</th>\n",
       "      <th>Credit_Mix</th>\n",
       "      <th>Outstanding_Debt</th>\n",
       "      <th>Credit_Utilization_Ratio</th>\n",
       "      <th>Credit_History_Age</th>\n",
       "      <th>Credit_Score</th>\n",
       "    </tr>\n",
       "  </thead>\n",
       "  <tbody>\n",
       "    <tr>\n",
       "      <th>0</th>\n",
       "      <td>23</td>\n",
       "      <td>Scientist</td>\n",
       "      <td>19114</td>\n",
       "      <td>3</td>\n",
       "      <td>4</td>\n",
       "      <td>0.03</td>\n",
       "      <td>4</td>\n",
       "      <td>5</td>\n",
       "      <td>4</td>\n",
       "      <td>4</td>\n",
       "      <td>Good</td>\n",
       "      <td>809</td>\n",
       "      <td>0.31</td>\n",
       "      <td>268</td>\n",
       "      <td>1</td>\n",
       "    </tr>\n",
       "    <tr>\n",
       "      <th>1</th>\n",
       "      <td>23</td>\n",
       "      <td>Scientist</td>\n",
       "      <td>19114</td>\n",
       "      <td>3</td>\n",
       "      <td>4</td>\n",
       "      <td>0.03</td>\n",
       "      <td>4</td>\n",
       "      <td>8</td>\n",
       "      <td>4</td>\n",
       "      <td>4</td>\n",
       "      <td>Good</td>\n",
       "      <td>809</td>\n",
       "      <td>0.27</td>\n",
       "      <td>270</td>\n",
       "      <td>1</td>\n",
       "    </tr>\n",
       "    <tr>\n",
       "      <th>2</th>\n",
       "      <td>23</td>\n",
       "      <td>Scientist</td>\n",
       "      <td>19114</td>\n",
       "      <td>3</td>\n",
       "      <td>4</td>\n",
       "      <td>0.03</td>\n",
       "      <td>4</td>\n",
       "      <td>3</td>\n",
       "      <td>8</td>\n",
       "      <td>4</td>\n",
       "      <td>Good</td>\n",
       "      <td>809</td>\n",
       "      <td>0.23</td>\n",
       "      <td>271</td>\n",
       "      <td>1</td>\n",
       "    </tr>\n",
       "    <tr>\n",
       "      <th>3</th>\n",
       "      <td>28</td>\n",
       "      <td>Teacher</td>\n",
       "      <td>34847</td>\n",
       "      <td>2</td>\n",
       "      <td>4</td>\n",
       "      <td>0.06</td>\n",
       "      <td>1</td>\n",
       "      <td>7</td>\n",
       "      <td>1</td>\n",
       "      <td>2</td>\n",
       "      <td>Good</td>\n",
       "      <td>605</td>\n",
       "      <td>0.39</td>\n",
       "      <td>320</td>\n",
       "      <td>1</td>\n",
       "    </tr>\n",
       "    <tr>\n",
       "      <th>4</th>\n",
       "      <td>28</td>\n",
       "      <td>Teacher</td>\n",
       "      <td>34847</td>\n",
       "      <td>2</td>\n",
       "      <td>4</td>\n",
       "      <td>0.06</td>\n",
       "      <td>1</td>\n",
       "      <td>3</td>\n",
       "      <td>3</td>\n",
       "      <td>2</td>\n",
       "      <td>Good</td>\n",
       "      <td>605</td>\n",
       "      <td>0.39</td>\n",
       "      <td>322</td>\n",
       "      <td>1</td>\n",
       "    </tr>\n",
       "    <tr>\n",
       "      <th>...</th>\n",
       "      <td>...</td>\n",
       "      <td>...</td>\n",
       "      <td>...</td>\n",
       "      <td>...</td>\n",
       "      <td>...</td>\n",
       "      <td>...</td>\n",
       "      <td>...</td>\n",
       "      <td>...</td>\n",
       "      <td>...</td>\n",
       "      <td>...</td>\n",
       "      <td>...</td>\n",
       "      <td>...</td>\n",
       "      <td>...</td>\n",
       "      <td>...</td>\n",
       "      <td>...</td>\n",
       "    </tr>\n",
       "    <tr>\n",
       "      <th>20781</th>\n",
       "      <td>50</td>\n",
       "      <td>Writer</td>\n",
       "      <td>37188</td>\n",
       "      <td>1</td>\n",
       "      <td>4</td>\n",
       "      <td>0.05</td>\n",
       "      <td>3</td>\n",
       "      <td>7</td>\n",
       "      <td>13</td>\n",
       "      <td>3</td>\n",
       "      <td>Good</td>\n",
       "      <td>620</td>\n",
       "      <td>0.39</td>\n",
       "      <td>363</td>\n",
       "      <td>1</td>\n",
       "    </tr>\n",
       "    <tr>\n",
       "      <th>20782</th>\n",
       "      <td>28</td>\n",
       "      <td>Architect</td>\n",
       "      <td>20002</td>\n",
       "      <td>10</td>\n",
       "      <td>8</td>\n",
       "      <td>0.29</td>\n",
       "      <td>5</td>\n",
       "      <td>35</td>\n",
       "      <td>26</td>\n",
       "      <td>9</td>\n",
       "      <td>Bad</td>\n",
       "      <td>3571</td>\n",
       "      <td>0.23</td>\n",
       "      <td>68</td>\n",
       "      <td>0</td>\n",
       "    </tr>\n",
       "    <tr>\n",
       "      <th>20783</th>\n",
       "      <td>28</td>\n",
       "      <td>Architect</td>\n",
       "      <td>20002</td>\n",
       "      <td>10</td>\n",
       "      <td>8</td>\n",
       "      <td>0.29</td>\n",
       "      <td>5</td>\n",
       "      <td>33</td>\n",
       "      <td>25</td>\n",
       "      <td>9</td>\n",
       "      <td>Bad</td>\n",
       "      <td>3571</td>\n",
       "      <td>0.40</td>\n",
       "      <td>69</td>\n",
       "      <td>0</td>\n",
       "    </tr>\n",
       "    <tr>\n",
       "      <th>20784</th>\n",
       "      <td>28</td>\n",
       "      <td>Architect</td>\n",
       "      <td>20002</td>\n",
       "      <td>10</td>\n",
       "      <td>8</td>\n",
       "      <td>0.29</td>\n",
       "      <td>5</td>\n",
       "      <td>33</td>\n",
       "      <td>25</td>\n",
       "      <td>9</td>\n",
       "      <td>Bad</td>\n",
       "      <td>3571</td>\n",
       "      <td>0.25</td>\n",
       "      <td>70</td>\n",
       "      <td>0</td>\n",
       "    </tr>\n",
       "    <tr>\n",
       "      <th>20785</th>\n",
       "      <td>25</td>\n",
       "      <td>Mechanic</td>\n",
       "      <td>39628</td>\n",
       "      <td>4</td>\n",
       "      <td>6</td>\n",
       "      <td>0.07</td>\n",
       "      <td>2</td>\n",
       "      <td>18</td>\n",
       "      <td>6</td>\n",
       "      <td>3</td>\n",
       "      <td>Good</td>\n",
       "      <td>502</td>\n",
       "      <td>0.34</td>\n",
       "      <td>382</td>\n",
       "      <td>0</td>\n",
       "    </tr>\n",
       "  </tbody>\n",
       "</table>\n",
       "<p>20786 rows × 15 columns</p>\n",
       "</div>"
      ],
      "text/plain": [
       "       Age Occupation  Annual_Income  Num_Bank_Accounts  Num_Credit_Card  \\\n",
       "0       23  Scientist          19114                  3                4   \n",
       "1       23  Scientist          19114                  3                4   \n",
       "2       23  Scientist          19114                  3                4   \n",
       "3       28    Teacher          34847                  2                4   \n",
       "4       28    Teacher          34847                  2                4   \n",
       "...    ...        ...            ...                ...              ...   \n",
       "20781   50     Writer          37188                  1                4   \n",
       "20782   28  Architect          20002                 10                8   \n",
       "20783   28  Architect          20002                 10                8   \n",
       "20784   28  Architect          20002                 10                8   \n",
       "20785   25   Mechanic          39628                  4                6   \n",
       "\n",
       "       Interest_Rate  Num_of_Loan  Delay_from_due_date  \\\n",
       "0               0.03            4                    5   \n",
       "1               0.03            4                    8   \n",
       "2               0.03            4                    3   \n",
       "3               0.06            1                    7   \n",
       "4               0.06            1                    3   \n",
       "...              ...          ...                  ...   \n",
       "20781           0.05            3                    7   \n",
       "20782           0.29            5                   35   \n",
       "20783           0.29            5                   33   \n",
       "20784           0.29            5                   33   \n",
       "20785           0.07            2                   18   \n",
       "\n",
       "       Num_of_Delayed_Payment  Num_Credit_Inquiries Credit_Mix  \\\n",
       "0                           4                     4       Good   \n",
       "1                           4                     4       Good   \n",
       "2                           8                     4       Good   \n",
       "3                           1                     2       Good   \n",
       "4                           3                     2       Good   \n",
       "...                       ...                   ...        ...   \n",
       "20781                      13                     3       Good   \n",
       "20782                      26                     9        Bad   \n",
       "20783                      25                     9        Bad   \n",
       "20784                      25                     9        Bad   \n",
       "20785                       6                     3       Good   \n",
       "\n",
       "       Outstanding_Debt  Credit_Utilization_Ratio  Credit_History_Age  \\\n",
       "0                   809                      0.31                 268   \n",
       "1                   809                      0.27                 270   \n",
       "2                   809                      0.23                 271   \n",
       "3                   605                      0.39                 320   \n",
       "4                   605                      0.39                 322   \n",
       "...                 ...                       ...                 ...   \n",
       "20781               620                      0.39                 363   \n",
       "20782              3571                      0.23                  68   \n",
       "20783              3571                      0.40                  69   \n",
       "20784              3571                      0.25                  70   \n",
       "20785               502                      0.34                 382   \n",
       "\n",
       "       Credit_Score  \n",
       "0                 1  \n",
       "1                 1  \n",
       "2                 1  \n",
       "3                 1  \n",
       "4                 1  \n",
       "...             ...  \n",
       "20781             1  \n",
       "20782             0  \n",
       "20783             0  \n",
       "20784             0  \n",
       "20785             0  \n",
       "\n",
       "[20786 rows x 15 columns]"
      ]
     },
     "execution_count": 99,
     "metadata": {},
     "output_type": "execute_result"
    }
   ],
   "source": [
    "pd.read_csv('data/cleaned_credit_data3.csv')"
   ]
  },
  {
   "cell_type": "markdown",
   "metadata": {},
   "source": [
    "# DONE"
   ]
  }
 ],
 "metadata": {
  "kernelspec": {
   "display_name": "base",
   "language": "python",
   "name": "python3"
  },
  "language_info": {
   "codemirror_mode": {
    "name": "ipython",
    "version": 3
   },
   "file_extension": ".py",
   "mimetype": "text/x-python",
   "name": "python",
   "nbconvert_exporter": "python",
   "pygments_lexer": "ipython3",
   "version": "3.9.15"
  },
  "orig_nbformat": 4
 },
 "nbformat": 4,
 "nbformat_minor": 2
}
