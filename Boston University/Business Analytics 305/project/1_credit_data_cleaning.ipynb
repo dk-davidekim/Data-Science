{
 "cells": [
  {
   "cell_type": "code",
   "execution_count": 2,
   "metadata": {},
   "outputs": [],
   "source": [
    "import numpy as np\n",
    "import pandas as pd\n",
    "import matplotlib.pyplot as plt\n",
    "%matplotlib inline\n",
    "import seaborn as sns\n",
    "import re"
   ]
  },
  {
   "cell_type": "code",
   "execution_count": 3,
   "metadata": {},
   "outputs": [],
   "source": [
    "pd.set_option('display.max_columns', None)"
   ]
  },
  {
   "attachments": {},
   "cell_type": "markdown",
   "metadata": {},
   "source": [
    "---\n",
    "\n",
    "## Load Data\n",
    "\n",
    "100,000 Entries with 28 columns"
   ]
  },
  {
   "cell_type": "code",
   "execution_count": 4,
   "metadata": {},
   "outputs": [
    {
     "name": "stdout",
     "output_type": "stream",
     "text": [
      "<class 'pandas.core.frame.DataFrame'>\n",
      "RangeIndex: 100000 entries, 0 to 99999\n",
      "Data columns (total 28 columns):\n",
      " #   Column                    Non-Null Count   Dtype  \n",
      "---  ------                    --------------   -----  \n",
      " 0   ID                        100000 non-null  object \n",
      " 1   Customer_ID               100000 non-null  object \n",
      " 2   Month                     100000 non-null  object \n",
      " 3   Name                      90015 non-null   object \n",
      " 4   Age                       100000 non-null  object \n",
      " 5   SSN                       100000 non-null  object \n",
      " 6   Occupation                100000 non-null  object \n",
      " 7   Annual_Income             100000 non-null  object \n",
      " 8   Monthly_Inhand_Salary     84998 non-null   float64\n",
      " 9   Num_Bank_Accounts         100000 non-null  int64  \n",
      " 10  Num_Credit_Card           100000 non-null  int64  \n",
      " 11  Interest_Rate             100000 non-null  int64  \n",
      " 12  Num_of_Loan               100000 non-null  object \n",
      " 13  Type_of_Loan              88592 non-null   object \n",
      " 14  Delay_from_due_date       100000 non-null  int64  \n",
      " 15  Num_of_Delayed_Payment    92998 non-null   object \n",
      " 16  Changed_Credit_Limit      100000 non-null  object \n",
      " 17  Num_Credit_Inquiries      98035 non-null   float64\n",
      " 18  Credit_Mix                100000 non-null  object \n",
      " 19  Outstanding_Debt          100000 non-null  object \n",
      " 20  Credit_Utilization_Ratio  100000 non-null  float64\n",
      " 21  Credit_History_Age        90970 non-null   object \n",
      " 22  Payment_of_Min_Amount     100000 non-null  object \n",
      " 23  Total_EMI_per_month       100000 non-null  float64\n",
      " 24  Amount_invested_monthly   95521 non-null   object \n",
      " 25  Payment_Behaviour         100000 non-null  object \n",
      " 26  Monthly_Balance           98800 non-null   object \n",
      " 27  Credit_Score              100000 non-null  object \n",
      "dtypes: float64(4), int64(4), object(20)\n",
      "memory usage: 21.4+ MB\n"
     ]
    },
    {
     "name": "stderr",
     "output_type": "stream",
     "text": [
      "/var/folders/h_/lxrkd3yx3w11tnfvg06j7l140000gn/T/ipykernel_62738/3010379159.py:1: DtypeWarning: Columns (26) have mixed types. Specify dtype option on import or set low_memory=False.\n",
      "  df = pd.read_csv('credit_raw.csv')\n"
     ]
    }
   ],
   "source": [
    "df = pd.read_csv('data/credit_raw.csv')\n",
    "df.info()"
   ]
  },
  {
   "cell_type": "code",
   "execution_count": 5,
   "metadata": {},
   "outputs": [
    {
     "data": {
      "text/plain": [
       "0"
      ]
     },
     "execution_count": 5,
     "metadata": {},
     "output_type": "execute_result"
    }
   ],
   "source": [
    "# Checking duplicates before we start :)\n",
    "\n",
    "df.duplicated().sum()"
   ]
  },
  {
   "attachments": {},
   "cell_type": "markdown",
   "metadata": {},
   "source": [
    "---\n",
    "\n",
    "## 1. Pooled Data to Cross-Section Data (Get rid of time-series)\n",
    "\n",
    "Drop all months except for 'August', then drop the 'Month' column."
   ]
  },
  {
   "cell_type": "code",
   "execution_count": 6,
   "metadata": {},
   "outputs": [
    {
     "data": {
      "text/plain": [
       "January     12500\n",
       "February    12500\n",
       "March       12500\n",
       "April       12500\n",
       "May         12500\n",
       "June        12500\n",
       "July        12500\n",
       "August      12500\n",
       "Name: Month, dtype: int64"
      ]
     },
     "execution_count": 6,
     "metadata": {},
     "output_type": "execute_result"
    }
   ],
   "source": [
    "df.Month.value_counts()"
   ]
  },
  {
   "cell_type": "code",
   "execution_count": 7,
   "metadata": {},
   "outputs": [
    {
     "data": {
      "text/plain": [
       "array(['August'], dtype=object)"
      ]
     },
     "execution_count": 7,
     "metadata": {},
     "output_type": "execute_result"
    }
   ],
   "source": [
    "# Drop all months except for 'August'\n",
    "\n",
    "df = df.loc[df.Month == 'August']\n",
    "df.Month.unique()"
   ]
  },
  {
   "cell_type": "code",
   "execution_count": 8,
   "metadata": {},
   "outputs": [
    {
     "data": {
      "text/plain": [
       "RangeIndex(start=0, stop=12500, step=1)"
      ]
     },
     "execution_count": 8,
     "metadata": {},
     "output_type": "execute_result"
    }
   ],
   "source": [
    "# Reset Index (Rows have been manipulated)\n",
    "\n",
    "df.reset_index(drop=True, inplace=True)\n",
    "df.index"
   ]
  },
  {
   "cell_type": "code",
   "execution_count": 9,
   "metadata": {},
   "outputs": [
    {
     "data": {
      "text/plain": [
       "(12500, 27)"
      ]
     },
     "execution_count": 9,
     "metadata": {},
     "output_type": "execute_result"
    }
   ],
   "source": [
    "# Drop 'Month' column\n",
    "\n",
    "df.drop(columns='Month', inplace=True)\n",
    "df.shape"
   ]
  },
  {
   "attachments": {},
   "cell_type": "markdown",
   "metadata": {},
   "source": [
    "Must drop all variables that are related to time-series (Monthly influenced data)\n",
    "\n",
    "'Monthly_Inhand_Salary', 'Changed_Credit_Limit', 'Payment_of_Min_Amount', \n",
    "\n",
    "'Total_EMI_per_month', 'Amount_invested_monthly', 'Payment_Behaviour', 'Monthly_Balance'"
   ]
  },
  {
   "cell_type": "code",
   "execution_count": 10,
   "metadata": {},
   "outputs": [],
   "source": [
    "df.drop(columns=['Monthly_Inhand_Salary', 'Changed_Credit_Limit', 'Payment_of_Min_Amount',\n",
    "                 'Total_EMI_per_month', 'Amount_invested_monthly', 'Payment_Behaviour', 'Monthly_Balance'],\n",
    "                 inplace=True)\n"
   ]
  },
  {
   "cell_type": "code",
   "execution_count": 11,
   "metadata": {},
   "outputs": [
    {
     "data": {
      "text/plain": [
       "Index(['ID', 'Customer_ID', 'Name', 'Age', 'SSN', 'Occupation',\n",
       "       'Annual_Income', 'Num_Bank_Accounts', 'Num_Credit_Card',\n",
       "       'Interest_Rate', 'Num_of_Loan', 'Type_of_Loan', 'Delay_from_due_date',\n",
       "       'Num_of_Delayed_Payment', 'Num_Credit_Inquiries', 'Credit_Mix',\n",
       "       'Outstanding_Debt', 'Credit_Utilization_Ratio', 'Credit_History_Age',\n",
       "       'Credit_Score'],\n",
       "      dtype='object')"
      ]
     },
     "execution_count": 11,
     "metadata": {},
     "output_type": "execute_result"
    }
   ],
   "source": [
    "df.columns"
   ]
  },
  {
   "attachments": {},
   "cell_type": "markdown",
   "metadata": {},
   "source": [
    "---\n",
    "\n",
    "## 2. Drop Idenfication Variables\n",
    "\n",
    "Drop 4 Columns : 'ID', 'Customer_ID', 'Name', 'SSN'\n",
    "\n"
   ]
  },
  {
   "cell_type": "code",
   "execution_count": 12,
   "metadata": {},
   "outputs": [
    {
     "data": {
      "text/plain": [
       "Index(['Age', 'Occupation', 'Annual_Income', 'Num_Bank_Accounts',\n",
       "       'Num_Credit_Card', 'Interest_Rate', 'Num_of_Loan', 'Type_of_Loan',\n",
       "       'Delay_from_due_date', 'Num_of_Delayed_Payment', 'Num_Credit_Inquiries',\n",
       "       'Credit_Mix', 'Outstanding_Debt', 'Credit_Utilization_Ratio',\n",
       "       'Credit_History_Age', 'Credit_Score'],\n",
       "      dtype='object')"
      ]
     },
     "execution_count": 12,
     "metadata": {},
     "output_type": "execute_result"
    }
   ],
   "source": [
    "df.drop(columns= ['ID', 'Customer_ID', 'Name', 'SSN'], inplace=True)\n",
    "df.columns"
   ]
  },
  {
   "attachments": {},
   "cell_type": "markdown",
   "metadata": {},
   "source": [
    "---\n",
    "\n",
    "## 3. Drop Null Values"
   ]
  },
  {
   "cell_type": "code",
   "execution_count": 13,
   "metadata": {},
   "outputs": [
    {
     "data": {
      "text/plain": [
       "Age                            0\n",
       "Occupation                     0\n",
       "Annual_Income                  0\n",
       "Num_Bank_Accounts              0\n",
       "Num_Credit_Card                0\n",
       "Interest_Rate                  0\n",
       "Num_of_Loan                    0\n",
       "Type_of_Loan                1426\n",
       "Delay_from_due_date            0\n",
       "Num_of_Delayed_Payment       840\n",
       "Num_Credit_Inquiries         257\n",
       "Credit_Mix                     0\n",
       "Outstanding_Debt               0\n",
       "Credit_Utilization_Ratio       0\n",
       "Credit_History_Age          1120\n",
       "Credit_Score                   0\n",
       "dtype: int64"
      ]
     },
     "execution_count": 13,
     "metadata": {},
     "output_type": "execute_result"
    }
   ],
   "source": [
    "df.isnull().sum()"
   ]
  },
  {
   "attachments": {},
   "cell_type": "markdown",
   "metadata": {},
   "source": [
    "#### Before we drop the rows with null values drop the unnecessary variables (with null values)"
   ]
  },
  {
   "cell_type": "code",
   "execution_count": 14,
   "metadata": {},
   "outputs": [
    {
     "data": {
      "text/plain": [
       "array(['Auto Loan, Credit-Builder Loan, Personal Loan, and Home Equity Loan',\n",
       "       'Credit-Builder Loan', 'Auto Loan, Auto Loan, and Not Specified',\n",
       "       ..., 'Home Equity Loan, Auto Loan, Auto Loan, and Auto Loan',\n",
       "       'Payday Loan, Student Loan, Mortgage Loan, and Not Specified',\n",
       "       'Personal Loan, Auto Loan, Mortgage Loan, Student Loan, and Student Loan'],\n",
       "      dtype=object)"
      ]
     },
     "execution_count": 14,
     "metadata": {},
     "output_type": "execute_result"
    }
   ],
   "source": [
    "df.Type_of_Loan.unique()"
   ]
  },
  {
   "cell_type": "code",
   "execution_count": 15,
   "metadata": {},
   "outputs": [
    {
     "data": {
      "text/plain": [
       "(12500, 15)"
      ]
     },
     "execution_count": 15,
     "metadata": {},
     "output_type": "execute_result"
    }
   ],
   "source": [
    "# Drop the column since we have Num_of_Loan\n",
    "\n",
    "df.drop(columns='Type_of_Loan', inplace=True)\n",
    "df.shape"
   ]
  },
  {
   "attachments": {},
   "cell_type": "markdown",
   "metadata": {},
   "source": [
    "The other variables seem important..."
   ]
  },
  {
   "cell_type": "code",
   "execution_count": 16,
   "metadata": {},
   "outputs": [
    {
     "data": {
      "text/plain": [
       "(10396, 15)"
      ]
     },
     "execution_count": 16,
     "metadata": {},
     "output_type": "execute_result"
    }
   ],
   "source": [
    "df.dropna(inplace=True)\n",
    "df.shape"
   ]
  },
  {
   "cell_type": "code",
   "execution_count": 17,
   "metadata": {},
   "outputs": [
    {
     "data": {
      "text/plain": [
       "RangeIndex(start=0, stop=10396, step=1)"
      ]
     },
     "execution_count": 17,
     "metadata": {},
     "output_type": "execute_result"
    }
   ],
   "source": [
    "# Reset Index (Rows have been manipulated)\n",
    "\n",
    "df.reset_index(drop=True, inplace=True)\n",
    "df.index"
   ]
  },
  {
   "attachments": {},
   "cell_type": "markdown",
   "metadata": {},
   "source": [
    "---\n",
    "\n",
    "## 4. Age\n"
   ]
  },
  {
   "cell_type": "code",
   "execution_count": 18,
   "metadata": {},
   "outputs": [
    {
     "data": {
      "text/plain": [
       "268"
      ]
     },
     "execution_count": 18,
     "metadata": {},
     "output_type": "execute_result"
    }
   ],
   "source": [
    "# Seems like there are wrong values\n",
    "\n",
    "df.Age.nunique()"
   ]
  },
  {
   "cell_type": "code",
   "execution_count": 19,
   "metadata": {},
   "outputs": [
    {
     "data": {
      "text/plain": [
       "dtype('O')"
      ]
     },
     "execution_count": 19,
     "metadata": {},
     "output_type": "execute_result"
    }
   ],
   "source": [
    "# Type should be integer, but it's a string (object)\n",
    "\n",
    "df.Age.dtype"
   ]
  },
  {
   "cell_type": "code",
   "execution_count": 20,
   "metadata": {},
   "outputs": [
    {
     "data": {
      "text/plain": [
       "0    28\n",
       "1    34\n",
       "2    55\n",
       "3    21\n",
       "4    34\n",
       "Name: Age, dtype: int64"
      ]
     },
     "execution_count": 20,
     "metadata": {},
     "output_type": "execute_result"
    }
   ],
   "source": [
    "# Extract only the numbers and change the type to integer.\n",
    "\n",
    "df.Age = df.Age.map(lambda x: int(''.join(re.findall(r'\\d+', x))))\n",
    "df.Age.head()"
   ]
  },
  {
   "cell_type": "code",
   "execution_count": 21,
   "metadata": {},
   "outputs": [
    {
     "data": {
      "text/plain": [
       "(5.335, 1746.8]     0.985475\n",
       "(5212.4, 6945.2]    0.003944\n",
       "(3479.6, 5212.4]    0.003848\n",
       "(1746.8, 3479.6]    0.003367\n",
       "(6945.2, 8678.0]    0.003367\n",
       "Name: Age, dtype: float64"
      ]
     },
     "execution_count": 21,
     "metadata": {},
     "output_type": "execute_result"
    }
   ],
   "source": [
    "df.Age.value_counts(normalize=True, bins=5)"
   ]
  },
  {
   "cell_type": "code",
   "execution_count": 22,
   "metadata": {},
   "outputs": [
    {
     "name": "stdout",
     "output_type": "stream",
     "text": [
      "14\n",
      "8678\n"
     ]
    }
   ],
   "source": [
    "print(df.Age.min())\n",
    "print(df.Age.max())"
   ]
  },
  {
   "cell_type": "code",
   "execution_count": 23,
   "metadata": {},
   "outputs": [
    {
     "data": {
      "text/plain": [
       "(1361, 15)"
      ]
     },
     "execution_count": 23,
     "metadata": {},
     "output_type": "execute_result"
    }
   ],
   "source": [
    "# Observations with age under 21 should be considered wrong data => Based on jobs, credit history age, etc.\n",
    "\n",
    "df.loc[df.Age<21].shape"
   ]
  },
  {
   "cell_type": "code",
   "execution_count": 24,
   "metadata": {},
   "outputs": [
    {
     "name": "stdout",
     "output_type": "stream",
     "text": [
      "(263, 15)\n",
      "(8772, 15)\n"
     ]
    }
   ],
   "source": [
    "# Age is higher than 20 and lower than 100\n",
    "\n",
    "print(df.loc[df.Age>=100].shape)\n",
    "df = df.loc[(df.Age>20) & (df.Age<=100)]\n",
    "df.reset_index(drop=True, inplace=True)\n",
    "print(df.shape)"
   ]
  },
  {
   "cell_type": "code",
   "execution_count": 25,
   "metadata": {},
   "outputs": [
    {
     "data": {
      "image/png": "[encoded data removed]",
      "text/plain": [
       "<Figure size 1000x300 with 2 Axes>"
      ]
     },
     "metadata": {},
     "output_type": "display_data"
    }
   ],
   "source": [
    "# Looks good\n",
    "\n",
    "plt.figure(figsize=(10,3))\n",
    "\n",
    "plt.subplot(1, 2, 1)\n",
    "plt.boxplot(df.Age)\n",
    "\n",
    "plt.subplot(1, 2, 2)\n",
    "plt.hist(df.Age)\n",
    "\n",
    "plt.show()"
   ]
  },
  {
   "attachments": {},
   "cell_type": "markdown",
   "metadata": {},
   "source": [
    "---\n",
    "\n",
    "## 5. Occupation"
   ]
  },
  {
   "cell_type": "code",
   "execution_count": 26,
   "metadata": {},
   "outputs": [
    {
     "data": {
      "text/plain": [
       "_______          631\n",
       "Lawyer           590\n",
       "Architect        565\n",
       "Entrepreneur     557\n",
       "Scientist        553\n",
       "Journalist       552\n",
       "Mechanic         552\n",
       "Accountant       551\n",
       "Media_Manager    546\n",
       "Developer        542\n",
       "Teacher          535\n",
       "Doctor           533\n",
       "Engineer         531\n",
       "Musician         519\n",
       "Writer           512\n",
       "Manager          503\n",
       "Name: Occupation, dtype: int64"
      ]
     },
     "execution_count": 26,
     "metadata": {},
     "output_type": "execute_result"
    }
   ],
   "source": [
    "# 631 null values.\n",
    "\n",
    "df.Occupation.value_counts()"
   ]
  },
  {
   "cell_type": "code",
   "execution_count": 27,
   "metadata": {},
   "outputs": [
    {
     "data": {
      "text/plain": [
       "(8141, 15)"
      ]
     },
     "execution_count": 27,
     "metadata": {},
     "output_type": "execute_result"
    }
   ],
   "source": [
    "# Drop null values\n",
    "\n",
    "df = df.loc[df.Occupation != '_______']\n",
    "df.shape"
   ]
  },
  {
   "cell_type": "code",
   "execution_count": 28,
   "metadata": {},
   "outputs": [
    {
     "data": {
      "text/plain": [
       "RangeIndex(start=0, stop=8141, step=1)"
      ]
     },
     "execution_count": 28,
     "metadata": {},
     "output_type": "execute_result"
    }
   ],
   "source": [
    "# Reset Index (Rows have been manipulated)\n",
    "\n",
    "df.reset_index(drop=True, inplace=True)\n",
    "df.index"
   ]
  },
  {
   "attachments": {},
   "cell_type": "markdown",
   "metadata": {},
   "source": [
    "---\n",
    "\n",
    "## 6. Annual_Income"
   ]
  },
  {
   "cell_type": "code",
   "execution_count": 29,
   "metadata": {},
   "outputs": [
    {
     "data": {
      "text/plain": [
       "0        34847\n",
       "1       143162\n",
       "2        30689\n",
       "3        35547\n",
       "4       131313\n",
       "         ...  \n",
       "8136     59146\n",
       "8137     38321\n",
       "8138     37188\n",
       "8139     20002\n",
       "8140     39628\n",
       "Name: Annual_Income, Length: 8141, dtype: int64"
      ]
     },
     "execution_count": 29,
     "metadata": {},
     "output_type": "execute_result"
    }
   ],
   "source": [
    "# Leave only the numbers and decimal point\n",
    "# Round it to integer\n",
    "\n",
    "df.Annual_Income = df.Annual_Income.map(lambda x: int(float(''.join(re.findall(r'\\d+\\.\\d+', x)))))\n",
    "df.Annual_Income"
   ]
  },
  {
   "cell_type": "code",
   "execution_count": 30,
   "metadata": {},
   "outputs": [
    {
     "data": {
      "text/plain": [
       "(-16821.693, 4772544.4]     0.991770\n",
       "(14303621.2, 19069159.6]    0.003317\n",
       "(9538082.8, 14303621.2]     0.001720\n",
       "(4772544.4, 9538082.8]      0.001597\n",
       "(19069159.6, 23834698.0]    0.001597\n",
       "Name: Annual_Income, dtype: float64"
      ]
     },
     "execution_count": 30,
     "metadata": {},
     "output_type": "execute_result"
    }
   ],
   "source": [
    "# Outliers\n",
    "\n",
    "df.Annual_Income.value_counts(normalize=True, bins=5)"
   ]
  },
  {
   "cell_type": "code",
   "execution_count": 31,
   "metadata": {},
   "outputs": [
    {
     "data": {
      "image/png": "[encoded data removed]",
      "text/plain": [
       "<Figure size 300x300 with 1 Axes>"
      ]
     },
     "metadata": {},
     "output_type": "display_data"
    }
   ],
   "source": [
    "plt.figure(figsize=(3,3))\n",
    "plt.boxplot(df.Annual_Income.loc[df.Annual_Income<=1000000])\n",
    "plt.show()"
   ]
  },
  {
   "cell_type": "code",
   "execution_count": 32,
   "metadata": {},
   "outputs": [
    {
     "name": "stdout",
     "output_type": "stream",
     "text": [
      "81\n"
     ]
    },
    {
     "data": {
      "text/plain": [
       "(8060, 15)"
      ]
     },
     "execution_count": 32,
     "metadata": {},
     "output_type": "execute_result"
    }
   ],
   "source": [
    "# Outliers => Cutoff at 200,000 US Dollars\n",
    "\n",
    "print(df.Annual_Income.loc[df.Annual_Income>=200000].__len__())\n",
    "\n",
    "df = df.loc[df.Annual_Income<=200000]\n",
    "df.reset_index(drop=True, inplace=True)\n",
    "df.shape"
   ]
  },
  {
   "cell_type": "code",
   "execution_count": 33,
   "metadata": {},
   "outputs": [
    {
     "data": {
      "image/png": "[encoded data removed]",
      "text/plain": [
       "<Figure size 1000x300 with 2 Axes>"
      ]
     },
     "metadata": {},
     "output_type": "display_data"
    }
   ],
   "source": [
    "# Not bad for now\n",
    "\n",
    "plt.figure(figsize=(10,3))\n",
    "\n",
    "plt.subplot(1, 2, 1)\n",
    "plt.boxplot(df.Annual_Income)\n",
    "\n",
    "plt.subplot(1, 2, 2)\n",
    "plt.hist(df.Annual_Income)\n",
    "\n",
    "plt.show()"
   ]
  },
  {
   "attachments": {},
   "cell_type": "markdown",
   "metadata": {},
   "source": [
    "---\n",
    "\n",
    "## 7. Num_Bank_Accounts"
   ]
  },
  {
   "cell_type": "code",
   "execution_count": 34,
   "metadata": {},
   "outputs": [
    {
     "data": {
      "text/plain": [
       "(-2.758, 350.4]     0.990571\n",
       "(1404.6, 1756.0]    0.002978\n",
       "(701.8, 1053.2]     0.002481\n",
       "(1053.2, 1404.6]    0.002109\n",
       "(350.4, 701.8]      0.001861\n",
       "Name: Num_Bank_Accounts, dtype: float64"
      ]
     },
     "execution_count": 34,
     "metadata": {},
     "output_type": "execute_result"
    }
   ],
   "source": [
    "# Number of bank accounts distribution\n",
    "\n",
    "df.Num_Bank_Accounts.value_counts(normalize=True, bins=5)"
   ]
  },
  {
   "cell_type": "code",
   "execution_count": 35,
   "metadata": {},
   "outputs": [
    {
     "data": {
      "text/plain": [
       "(-1.059, 10.6]    0.999498\n",
       "(45.4, 57.0]      0.000251\n",
       "(10.6, 22.2]      0.000126\n",
       "(22.2, 33.8]      0.000126\n",
       "(33.8, 45.4]      0.000000\n",
       "Name: Num_Bank_Accounts, dtype: float64"
      ]
     },
     "execution_count": 35,
     "metadata": {},
     "output_type": "execute_result"
    }
   ],
   "source": [
    "# Under 100\n",
    "\n",
    "df.Num_Bank_Accounts.loc[df.Num_Bank_Accounts<=100].value_counts(normalize=True, bins=5)"
   ]
  },
  {
   "cell_type": "code",
   "execution_count": 36,
   "metadata": {},
   "outputs": [
    {
     "data": {
      "text/plain": [
       "(7965, 15)"
      ]
     },
     "execution_count": 36,
     "metadata": {},
     "output_type": "execute_result"
    }
   ],
   "source": [
    "# Drop outliers\n",
    "\n",
    "df = df.loc[df.Num_Bank_Accounts < 12]\n",
    "df.shape"
   ]
  },
  {
   "cell_type": "code",
   "execution_count": 37,
   "metadata": {},
   "outputs": [
    {
     "data": {
      "image/png": "[encoded data removed]",
      "text/plain": [
       "<Figure size 1000x300 with 2 Axes>"
      ]
     },
     "metadata": {},
     "output_type": "display_data"
    }
   ],
   "source": [
    "# Looks Good\n",
    "\n",
    "plt.figure(figsize=(10,3))\n",
    "\n",
    "plt.subplot(1, 2, 1)\n",
    "plt.boxplot(df.Num_Bank_Accounts)\n",
    "\n",
    "plt.subplot(1, 2, 2)\n",
    "plt.hist(df.Num_Bank_Accounts)\n",
    "\n",
    "plt.show()"
   ]
  },
  {
   "attachments": {},
   "cell_type": "markdown",
   "metadata": {},
   "source": [
    "---\n",
    "\n",
    "## 8. Num_Credit_Card"
   ]
  },
  {
   "cell_type": "code",
   "execution_count": 38,
   "metadata": {},
   "outputs": [
    {
     "data": {
      "text/plain": [
       "(-1.5, 299.8]       0.981293\n",
       "(299.8, 599.6]      0.005022\n",
       "(599.6, 899.4]      0.004896\n",
       "(1199.2, 1499.0]    0.004645\n",
       "(899.4, 1199.2]     0.004143\n",
       "Name: Num_Credit_Card, dtype: float64"
      ]
     },
     "execution_count": 38,
     "metadata": {},
     "output_type": "execute_result"
    }
   ],
   "source": [
    "# Number of credit card distribution\n",
    "\n",
    "df.Num_Credit_Card.value_counts(normalize=True, bins=5)"
   ]
  },
  {
   "cell_type": "code",
   "execution_count": 39,
   "metadata": {},
   "outputs": [
    {
     "data": {
      "text/plain": [
       "(-0.101, 20.0]    0.998203\n",
       "(20.0, 40.0]      0.000513\n",
       "(60.0, 80.0]      0.000513\n",
       "(80.0, 100.0]     0.000513\n",
       "(40.0, 60.0]      0.000257\n",
       "Name: Num_Credit_Card, dtype: float64"
      ]
     },
     "execution_count": 39,
     "metadata": {},
     "output_type": "execute_result"
    }
   ],
   "source": [
    "# Under 100\n",
    "\n",
    "df.Num_Credit_Card.loc[df.Num_Credit_Card<=100].value_counts(normalize=True, bins=5)"
   ]
  },
  {
   "cell_type": "code",
   "execution_count": 40,
   "metadata": {},
   "outputs": [
    {
     "data": {
      "text/plain": [
       "(7777, 15)"
      ]
     },
     "execution_count": 40,
     "metadata": {},
     "output_type": "execute_result"
    }
   ],
   "source": [
    "# Drop outliers\n",
    "\n",
    "df = df.loc[df.Num_Credit_Card <= 20]\n",
    "df.shape"
   ]
  },
  {
   "cell_type": "code",
   "execution_count": 41,
   "metadata": {},
   "outputs": [
    {
     "data": {
      "image/png": "[encoded data removed]",
      "text/plain": [
       "<Figure size 1000x300 with 2 Axes>"
      ]
     },
     "metadata": {},
     "output_type": "display_data"
    }
   ],
   "source": [
    "# Looks Good\n",
    "\n",
    "plt.figure(figsize=(10,3))\n",
    "\n",
    "plt.subplot(1, 2, 1)\n",
    "plt.boxplot(df.Num_Credit_Card)\n",
    "\n",
    "plt.subplot(1, 2, 2)\n",
    "plt.hist(df.Num_Credit_Card)\n",
    "\n",
    "plt.show()"
   ]
  },
  {
   "attachments": {},
   "cell_type": "markdown",
   "metadata": {},
   "source": [
    "---\n",
    "\n",
    "## 9. Interest_Rate"
   ]
  },
  {
   "cell_type": "code",
   "execution_count": 42,
   "metadata": {},
   "outputs": [
    {
     "name": "stdout",
     "output_type": "stream",
     "text": [
      "int64\n"
     ]
    },
    {
     "data": {
      "text/plain": [
       "(-4.789000000000001, 1158.6]    0.983670\n",
       "(2316.2, 3473.8]                0.005401\n",
       "(4631.4, 5789.0]                0.004243\n",
       "(3473.8, 4631.4]                0.003472\n",
       "(1158.6, 2316.2]                0.003215\n",
       "Name: Interest_Rate, dtype: float64"
      ]
     },
     "execution_count": 42,
     "metadata": {},
     "output_type": "execute_result"
    }
   ],
   "source": [
    "print(df.Interest_Rate.dtype)\n",
    "\n",
    "# Interest rate distribution\n",
    "\n",
    "df.Interest_Rate.value_counts(normalize=True, bins=5)"
   ]
  },
  {
   "cell_type": "code",
   "execution_count": 43,
   "metadata": {},
   "outputs": [
    {
     "data": {
      "text/plain": [
       "(0.9, 20.8]      0.784644\n",
       "(20.8, 40.6]     0.215093\n",
       "(80.2, 100.0]    0.000263\n",
       "(40.6, 60.4]     0.000000\n",
       "(60.4, 80.2]     0.000000\n",
       "Name: Interest_Rate, dtype: float64"
      ]
     },
     "execution_count": 43,
     "metadata": {},
     "output_type": "execute_result"
    }
   ],
   "source": [
    "# Under 100\n",
    "\n",
    "df.Interest_Rate.loc[df.Interest_Rate<=100].value_counts(normalize=True, bins=5)"
   ]
  },
  {
   "cell_type": "code",
   "execution_count": 44,
   "metadata": {},
   "outputs": [
    {
     "data": {
      "text/plain": [
       "(7604, 15)"
      ]
     },
     "execution_count": 44,
     "metadata": {},
     "output_type": "execute_result"
    }
   ],
   "source": [
    "# Drop outliers\n",
    "\n",
    "df = df.loc[df.Interest_Rate <= 41]\n",
    "df.shape"
   ]
  },
  {
   "cell_type": "code",
   "execution_count": 45,
   "metadata": {},
   "outputs": [
    {
     "data": {
      "text/plain": [
       "0    0.06\n",
       "1    0.08\n",
       "2    0.04\n",
       "3    0.05\n",
       "4    0.08\n",
       "Name: Interest_Rate, dtype: float64"
      ]
     },
     "execution_count": 45,
     "metadata": {},
     "output_type": "execute_result"
    }
   ],
   "source": [
    "# Interest_Rate column seems like it is written in percentage => Divide it by 100\n",
    "\n",
    "df.Interest_Rate = df.Interest_Rate.map(lambda x : x / 100)\n",
    "df.Interest_Rate.head()"
   ]
  },
  {
   "cell_type": "code",
   "execution_count": 46,
   "metadata": {},
   "outputs": [
    {
     "data": {
      "image/png": "[encoded data removed]",
      "text/plain": [
       "<Figure size 1000x300 with 2 Axes>"
      ]
     },
     "metadata": {},
     "output_type": "display_data"
    }
   ],
   "source": [
    "# Looks Good\n",
    "\n",
    "plt.figure(figsize=(10,3))\n",
    "\n",
    "plt.subplot(1, 2, 1)\n",
    "plt.boxplot(df.Interest_Rate)\n",
    "\n",
    "plt.subplot(1, 2, 2)\n",
    "plt.hist(df.Interest_Rate)\n",
    "\n",
    "plt.show()"
   ]
  },
  {
   "attachments": {},
   "cell_type": "markdown",
   "metadata": {},
   "source": [
    "---\n",
    "\n",
    "## 10. Num_of_Loan"
   ]
  },
  {
   "cell_type": "code",
   "execution_count": 47,
   "metadata": {},
   "outputs": [
    {
     "name": "stdout",
     "output_type": "stream",
     "text": [
      "object\n"
     ]
    }
   ],
   "source": [
    "print(df.Num_of_Loan.dtype)"
   ]
  },
  {
   "cell_type": "code",
   "execution_count": null,
   "metadata": {},
   "outputs": [],
   "source": []
  },
  {
   "cell_type": "code",
   "execution_count": 48,
   "metadata": {},
   "outputs": [
    {
     "data": {
      "text/plain": [
       "(-1.434, 286.6]     0.996712\n",
       "(859.8, 1146.4]     0.001052\n",
       "(1146.4, 1433.0]    0.000921\n",
       "(286.6, 573.2]      0.000658\n",
       "(573.2, 859.8]      0.000658\n",
       "Name: Num_of_Loan, dtype: float64"
      ]
     },
     "execution_count": 48,
     "metadata": {},
     "output_type": "execute_result"
    }
   ],
   "source": [
    "# Leave only integer\n",
    "\n",
    "df.Num_of_Loan = df.Num_of_Loan.map(lambda x: int(''.join(re.findall(r'\\d+', x))))\n",
    "df.Num_of_Loan.value_counts(normalize=True, bins=5)"
   ]
  },
  {
   "cell_type": "code",
   "execution_count": 49,
   "metadata": {},
   "outputs": [
    {
     "data": {
      "text/plain": [
       "(-0.101, 20.0]    0.959451\n",
       "(20.0, 40.0]      0.000132\n",
       "(40.0, 60.0]      0.000132\n",
       "(60.0, 80.0]      0.000132\n",
       "(80.0, 100.0]     0.040153\n",
       "Name: Num_of_Loan, dtype: float64"
      ]
     },
     "execution_count": 49,
     "metadata": {},
     "output_type": "execute_result"
    }
   ],
   "source": [
    "# Under 100\n",
    "\n",
    "df.Num_of_Loan.loc[df.Num_of_Loan<=100].value_counts(normalize=True, bins=5).sort_index()"
   ]
  },
  {
   "cell_type": "code",
   "execution_count": 50,
   "metadata": {},
   "outputs": [
    {
     "data": {
      "text/plain": [
       "(7264, 15)"
      ]
     },
     "execution_count": 50,
     "metadata": {},
     "output_type": "execute_result"
    }
   ],
   "source": [
    "# Drop outliers\n",
    "\n",
    "df = df.loc[df.Num_of_Loan <= 21]\n",
    "df.shape"
   ]
  },
  {
   "cell_type": "code",
   "execution_count": 51,
   "metadata": {},
   "outputs": [
    {
     "data": {
      "image/png": "[encoded data removed]",
      "text/plain": [
       "<Figure size 1000x300 with 2 Axes>"
      ]
     },
     "metadata": {},
     "output_type": "display_data"
    }
   ],
   "source": [
    "# Looks Good\n",
    "\n",
    "plt.figure(figsize=(10,3))\n",
    "\n",
    "plt.subplot(1, 2, 1)\n",
    "plt.boxplot(df.Num_of_Loan)\n",
    "\n",
    "plt.subplot(1, 2, 2)\n",
    "plt.hist(df.Num_of_Loan)\n",
    "\n",
    "plt.show()"
   ]
  },
  {
   "attachments": {},
   "cell_type": "markdown",
   "metadata": {},
   "source": [
    "---\n",
    "\n",
    "## 11. Delay_from_due_date"
   ]
  },
  {
   "cell_type": "code",
   "execution_count": 52,
   "metadata": {},
   "outputs": [
    {
     "data": {
      "text/plain": [
       "array([ 3,  8,  0, 30, 11, -2, 10, 23, 15, 13, 18, 53, 48, 25, 61, 31, 28,\n",
       "        4, 17, 16,  2, 62, 29,  6,  1,  5, 46,  9, 26, 22, 12, 33, 14, 20,\n",
       "       19, 41, 27, 38, 49, 42,  7, 24, 59, 47, 35, 60, 55, 21, 32, 57, 39,\n",
       "       40, 43, 54, 51, 36, 34, 37, 50, 56, 58, -3, 52, 44, -4, -1, 67, -5,\n",
       "       45, 63, 65, 66])"
      ]
     },
     "execution_count": 52,
     "metadata": {},
     "output_type": "execute_result"
    }
   ],
   "source": [
    "df.Delay_from_due_date.unique()"
   ]
  },
  {
   "cell_type": "code",
   "execution_count": 53,
   "metadata": {},
   "outputs": [
    {
     "data": {
      "text/plain": [
       "dtype('int64')"
      ]
     },
     "execution_count": 53,
     "metadata": {},
     "output_type": "execute_result"
    }
   ],
   "source": [
    "df.Delay_from_due_date.dtype"
   ]
  },
  {
   "cell_type": "code",
   "execution_count": 54,
   "metadata": {},
   "outputs": [
    {
     "data": {
      "text/plain": [
       "array([ 3,  8,  0, 30, 11, 10, 23, 15, 13, 18, 53, 48, 25, 61, 31, 28,  4,\n",
       "       17, 16,  2, 62, 29,  6,  1,  5, 46,  9, 26, 22, 12, 33, 14, 20, 19,\n",
       "       41, 27, 38, 49, 42,  7, 24, 59, 47, 35, 60, 55, 21, 32, 57, 39, 40,\n",
       "       43, 54, 51, 36, 34, 37, 50, 56, 58, 52, 44, 67, 45, 63, 65, 66])"
      ]
     },
     "execution_count": 54,
     "metadata": {},
     "output_type": "execute_result"
    }
   ],
   "source": [
    "# Change negative values to 0\n",
    "# Reason: This column represents the average number of days delayed from the payment date.\n",
    "# If you're average is negative, it means there was no delay (Early payment) = 0\n",
    "\n",
    "df.Delay_from_due_date = df.Delay_from_due_date.map(lambda x : 0 if x < 0 else x)\n",
    "df.Delay_from_due_date.unique()"
   ]
  },
  {
   "cell_type": "code",
   "execution_count": 55,
   "metadata": {},
   "outputs": [
    {
     "data": {
      "image/png": "[encoded data removed]",
      "text/plain": [
       "<Figure size 1000x300 with 2 Axes>"
      ]
     },
     "metadata": {},
     "output_type": "display_data"
    }
   ],
   "source": [
    "# Looks Alright\n",
    "\n",
    "plt.figure(figsize=(10,3))\n",
    "\n",
    "plt.subplot(1, 2, 1)\n",
    "plt.boxplot(df.Delay_from_due_date)\n",
    "\n",
    "plt.subplot(1, 2, 2)\n",
    "plt.hist(df.Delay_from_due_date)\n",
    "\n",
    "plt.show()"
   ]
  },
  {
   "attachments": {},
   "cell_type": "markdown",
   "metadata": {},
   "source": [
    "---\n",
    "\n",
    "## 12. Num_of_Delayed_Payment"
   ]
  },
  {
   "cell_type": "code",
   "execution_count": 56,
   "metadata": {},
   "outputs": [],
   "source": [
    "# NOTE: This column is very similar to one above (Delay_from_due_date). Might drop it later."
   ]
  },
  {
   "cell_type": "code",
   "execution_count": 57,
   "metadata": {},
   "outputs": [
    {
     "data": {
      "text/plain": [
       "array(['4', '6', '2', '14', '11', '8', '9', '13_', '16', '12', '19', '21',\n",
       "       '13', '18', '17', '10', '23', '7', '15', '20', '22', '1', '3', '0',\n",
       "       '5', '14_', '538', '25', '28', '-1', '24', '27', '16_', '20_',\n",
       "       '3539', '3684', '19_', '18_', '-3', '2503', '12_', '10_', '26',\n",
       "       '23_', '3253', '3858', '1_', '22_', '-2', '1718', '4069', '733',\n",
       "       '2323', '7_', '25_', '28_', '17_', '2222', '4216', '11_', '3_',\n",
       "       '15_', '9_', '2589', '2_', '2529', '6_', '960', '0_', '1673', '4_',\n",
       "       '3845', '5_', '8_', '996', '787', '-1_', '3107', '3632', '2943',\n",
       "       '2737', '24_', '-2_', '4211', '2148', '1178', '1891', '4053',\n",
       "       '2521', '450', '2560', '1154', '2950', '2810', '2334', '3099',\n",
       "       '2080', '2666', '21_', '2324', '1614', '3488', '2956', '26_',\n",
       "       '1975', '3827', '2438', '4106', '1473_', '2671', '1820', '1850',\n",
       "       '430'], dtype=object)"
      ]
     },
     "execution_count": 57,
     "metadata": {},
     "output_type": "execute_result"
    }
   ],
   "source": [
    "df.Num_of_Delayed_Payment.unique()"
   ]
  },
  {
   "cell_type": "code",
   "execution_count": 58,
   "metadata": {},
   "outputs": [],
   "source": [
    "# Leave only integer\n",
    "\n",
    "df.Num_of_Delayed_Payment = df.Num_of_Delayed_Payment.map(lambda x: int(''.join(re.findall(r'\\d+', x))))"
   ]
  },
  {
   "cell_type": "code",
   "execution_count": 59,
   "metadata": {},
   "outputs": [
    {
     "data": {
      "text/plain": [
       "(-4.2170000000000005, 843.2]    0.993667\n",
       "(1686.4, 2529.6]                0.002065\n",
       "(2529.6, 3372.8]                0.001652\n",
       "(3372.8, 4216.0]                0.001652\n",
       "(843.2, 1686.4]                 0.000964\n",
       "Name: Num_of_Delayed_Payment, dtype: float64"
      ]
     },
     "execution_count": 59,
     "metadata": {},
     "output_type": "execute_result"
    }
   ],
   "source": [
    "df.Num_of_Delayed_Payment.value_counts(normalize=True, bins=5)"
   ]
  },
  {
   "cell_type": "code",
   "execution_count": 60,
   "metadata": {},
   "outputs": [
    {
     "data": {
      "text/plain": [
       "(-0.029, 5.6]    0.133232\n",
       "(5.6, 11.2]      0.277000\n",
       "(11.2, 16.8]     0.254679\n",
       "(16.8, 22.4]     0.272425\n",
       "(22.4, 28.0]     0.062665\n",
       "Name: Num_of_Delayed_Payment, dtype: float64"
      ]
     },
     "execution_count": 60,
     "metadata": {},
     "output_type": "execute_result"
    }
   ],
   "source": [
    "# Under 100\n",
    "\n",
    "df.Num_of_Delayed_Payment.loc[df.Num_of_Delayed_Payment<=100].value_counts(normalize=True, bins=5).sort_index()"
   ]
  },
  {
   "cell_type": "code",
   "execution_count": 61,
   "metadata": {},
   "outputs": [
    {
     "data": {
      "text/plain": [
       "(7264, 15)"
      ]
     },
     "execution_count": 61,
     "metadata": {},
     "output_type": "execute_result"
    }
   ],
   "source": [
    "df.shape"
   ]
  },
  {
   "cell_type": "code",
   "execution_count": 62,
   "metadata": {},
   "outputs": [
    {
     "data": {
      "text/plain": [
       "(7213, 15)"
      ]
     },
     "execution_count": 62,
     "metadata": {},
     "output_type": "execute_result"
    }
   ],
   "source": [
    "# Drop outliers\n",
    "\n",
    "df = df.loc[df.Num_of_Delayed_Payment <= 28]\n",
    "df.shape"
   ]
  },
  {
   "cell_type": "code",
   "execution_count": 63,
   "metadata": {},
   "outputs": [
    {
     "data": {
      "image/png": "[encoded data removed]",
      "text/plain": [
       "<Figure size 1000x300 with 2 Axes>"
      ]
     },
     "metadata": {},
     "output_type": "display_data"
    }
   ],
   "source": [
    "# Looks Good\n",
    "\n",
    "plt.figure(figsize=(10,3))\n",
    "\n",
    "plt.subplot(1, 2, 1)\n",
    "plt.boxplot(df.Num_of_Delayed_Payment)\n",
    "\n",
    "plt.subplot(1, 2, 2)\n",
    "plt.hist(df.Num_of_Delayed_Payment)\n",
    "\n",
    "plt.show()"
   ]
  },
  {
   "attachments": {},
   "cell_type": "markdown",
   "metadata": {},
   "source": [
    "---\n",
    "\n",
    "## 13. Num_Credit_Inquiries"
   ]
  },
  {
   "cell_type": "code",
   "execution_count": 64,
   "metadata": {},
   "outputs": [
    {
     "name": "stdout",
     "output_type": "stream",
     "text": [
      "float64\n"
     ]
    }
   ],
   "source": [
    "# Change floats to integer\n",
    "\n",
    "print(df.Num_Credit_Inquiries.dtype)\n",
    "df.Num_Credit_Inquiries = df.Num_Credit_Inquiries.astype(int)"
   ]
  },
  {
   "cell_type": "code",
   "execution_count": 65,
   "metadata": {},
   "outputs": [
    {
     "data": {
      "text/plain": [
       "(-2.512, 502.2]     0.989048\n",
       "(2008.8, 2511.0]    0.002911\n",
       "(502.2, 1004.4]     0.002773\n",
       "(1506.6, 2008.8]    0.002773\n",
       "(1004.4, 1506.6]    0.002495\n",
       "Name: Num_Credit_Inquiries, dtype: float64"
      ]
     },
     "execution_count": 65,
     "metadata": {},
     "output_type": "execute_result"
    }
   ],
   "source": [
    "df.Num_Credit_Inquiries.value_counts(normalize=True, bins=5)"
   ]
  },
  {
   "cell_type": "code",
   "execution_count": 66,
   "metadata": {},
   "outputs": [
    {
     "data": {
      "text/plain": [
       "(-0.079, 15.6]    0.986929\n",
       "(15.6, 31.2]      0.012509\n",
       "(31.2, 46.8]      0.000141\n",
       "(46.8, 62.4]      0.000000\n",
       "(62.4, 78.0]      0.000422\n",
       "Name: Num_Credit_Inquiries, dtype: float64"
      ]
     },
     "execution_count": 66,
     "metadata": {},
     "output_type": "execute_result"
    }
   ],
   "source": [
    "# Under 100\n",
    "\n",
    "df.Num_Credit_Inquiries.loc[df.Num_Credit_Inquiries<=100].value_counts(normalize=True, bins=5).sort_index()"
   ]
  },
  {
   "cell_type": "code",
   "execution_count": 67,
   "metadata": {},
   "outputs": [
    {
     "data": {
      "text/plain": [
       "(7213, 15)"
      ]
     },
     "execution_count": 67,
     "metadata": {},
     "output_type": "execute_result"
    }
   ],
   "source": [
    "df.shape"
   ]
  },
  {
   "cell_type": "code",
   "execution_count": 68,
   "metadata": {},
   "outputs": [
    {
     "data": {
      "text/plain": [
       "(7076, 15)"
      ]
     },
     "execution_count": 68,
     "metadata": {},
     "output_type": "execute_result"
    }
   ],
   "source": [
    "# Drop outliers\n",
    "\n",
    "df = df.loc[df.Num_Credit_Inquiries <= 16]\n",
    "df.shape"
   ]
  },
  {
   "cell_type": "code",
   "execution_count": 69,
   "metadata": {},
   "outputs": [
    {
     "data": {
      "image/png": "[encoded data removed]",
      "text/plain": [
       "<Figure size 1000x300 with 2 Axes>"
      ]
     },
     "metadata": {},
     "output_type": "display_data"
    }
   ],
   "source": [
    "# Looks Good\n",
    "\n",
    "plt.figure(figsize=(10,3))\n",
    "\n",
    "plt.subplot(1, 2, 1)\n",
    "plt.boxplot(df.Num_Credit_Inquiries)\n",
    "\n",
    "plt.subplot(1, 2, 2)\n",
    "plt.hist(df.Num_Credit_Inquiries)\n",
    "\n",
    "plt.show()"
   ]
  },
  {
   "attachments": {},
   "cell_type": "markdown",
   "metadata": {},
   "source": [
    "---\n",
    "\n",
    "## 14. Credit_Mix"
   ]
  },
  {
   "cell_type": "code",
   "execution_count": 70,
   "metadata": {},
   "outputs": [
    {
     "data": {
      "text/plain": [
       "array(['Good', '_', 'Standard', 'Bad'], dtype=object)"
      ]
     },
     "execution_count": 70,
     "metadata": {},
     "output_type": "execute_result"
    }
   ],
   "source": [
    "df.Credit_Mix.unique()"
   ]
  },
  {
   "cell_type": "code",
   "execution_count": 71,
   "metadata": {},
   "outputs": [
    {
     "data": {
      "text/plain": [
       "1466"
      ]
     },
     "execution_count": 71,
     "metadata": {},
     "output_type": "execute_result"
    }
   ],
   "source": [
    "# Null Values\n",
    "\n",
    "df.loc[df.Credit_Mix == '_'].__len__()"
   ]
  },
  {
   "cell_type": "code",
   "execution_count": 72,
   "metadata": {},
   "outputs": [
    {
     "data": {
      "text/plain": [
       "(7076, 15)"
      ]
     },
     "execution_count": 72,
     "metadata": {},
     "output_type": "execute_result"
    }
   ],
   "source": [
    "df.shape"
   ]
  },
  {
   "cell_type": "code",
   "execution_count": 73,
   "metadata": {},
   "outputs": [
    {
     "data": {
      "text/plain": [
       "(5610, 15)"
      ]
     },
     "execution_count": 73,
     "metadata": {},
     "output_type": "execute_result"
    }
   ],
   "source": [
    "# NOTE Should I drop this? There are many observations... Let's drop it for now\n",
    "\n",
    "df = df.loc[df.Credit_Mix != '_']\n",
    "df.shape"
   ]
  },
  {
   "cell_type": "code",
   "execution_count": 74,
   "metadata": {},
   "outputs": [
    {
     "data": {
      "text/plain": [
       "RangeIndex(start=0, stop=5610, step=1)"
      ]
     },
     "execution_count": 74,
     "metadata": {},
     "output_type": "execute_result"
    }
   ],
   "source": [
    "# Reset Index (Rows have been manipulated)\n",
    "\n",
    "df.reset_index(drop=True, inplace=True)\n",
    "df.index"
   ]
  },
  {
   "cell_type": "code",
   "execution_count": 75,
   "metadata": {},
   "outputs": [
    {
     "data": {
      "image/png": "[encoded data removed]",
      "text/plain": [
       "<Figure size 200x200 with 1 Axes>"
      ]
     },
     "metadata": {},
     "output_type": "display_data"
    }
   ],
   "source": [
    "plt.figure(figsize=(2,2))\n",
    "plt.hist(df.Credit_Mix)\n",
    "plt.show()"
   ]
  },
  {
   "attachments": {},
   "cell_type": "markdown",
   "metadata": {},
   "source": [
    "---\n",
    "\n",
    "## 15. Outstanding_Debt"
   ]
  },
  {
   "cell_type": "code",
   "execution_count": 76,
   "metadata": {},
   "outputs": [
    {
     "data": {
      "text/plain": [
       "array(['605.03', '1303.01', '352.16', ..., '418.03', '3571.7', '502.38'],\n",
       "      dtype=object)"
      ]
     },
     "execution_count": 76,
     "metadata": {},
     "output_type": "execute_result"
    }
   ],
   "source": [
    "df.Outstanding_Debt.unique()"
   ]
  },
  {
   "cell_type": "code",
   "execution_count": 77,
   "metadata": {},
   "outputs": [],
   "source": [
    "# Leave only the numbers and decimal point\n",
    "# Round it to integer\n",
    "\n",
    "df.Outstanding_Debt = df.Outstanding_Debt.map(lambda x: int(float(''.join(re.findall(r'\\d+\\.\\d+', x)))))"
   ]
  },
  {
   "cell_type": "code",
   "execution_count": 78,
   "metadata": {},
   "outputs": [
    {
     "data": {
      "text/plain": [
       "(-4.993, 998.4]     0.451337\n",
       "(998.4, 1996.8]     0.327986\n",
       "(1996.8, 2995.2]    0.121390\n",
       "(2995.2, 3993.6]    0.050267\n",
       "(3993.6, 4992.0]    0.049020\n",
       "Name: Outstanding_Debt, dtype: float64"
      ]
     },
     "execution_count": 78,
     "metadata": {},
     "output_type": "execute_result"
    }
   ],
   "source": [
    "# No huge outliers...\n",
    "\n",
    "df.Outstanding_Debt.value_counts(normalize=True, bins=5).sort_index()"
   ]
  },
  {
   "cell_type": "code",
   "execution_count": 79,
   "metadata": {},
   "outputs": [
    {
     "data": {
      "image/png": "[encoded data removed]",
      "text/plain": [
       "<Figure size 1000x300 with 2 Axes>"
      ]
     },
     "metadata": {},
     "output_type": "display_data"
    }
   ],
   "source": [
    "# Looks Alright\n",
    "\n",
    "plt.figure(figsize=(10,3))\n",
    "\n",
    "plt.subplot(1, 2, 1)\n",
    "plt.boxplot(df.Outstanding_Debt)\n",
    "\n",
    "plt.subplot(1, 2, 2)\n",
    "plt.hist(df.Outstanding_Debt)\n",
    "\n",
    "plt.show()"
   ]
  },
  {
   "cell_type": "code",
   "execution_count": 80,
   "metadata": {},
   "outputs": [
    {
     "data": {
      "text/plain": [
       "Index(['Age', 'Occupation', 'Annual_Income', 'Num_Bank_Accounts',\n",
       "       'Num_Credit_Card', 'Interest_Rate', 'Num_of_Loan',\n",
       "       'Delay_from_due_date', 'Num_of_Delayed_Payment', 'Num_Credit_Inquiries',\n",
       "       'Credit_Mix', 'Outstanding_Debt', 'Credit_Utilization_Ratio',\n",
       "       'Credit_History_Age', 'Credit_Score'],\n",
       "      dtype='object')"
      ]
     },
     "execution_count": 80,
     "metadata": {},
     "output_type": "execute_result"
    }
   ],
   "source": [
    "df.columns"
   ]
  },
  {
   "attachments": {},
   "cell_type": "markdown",
   "metadata": {},
   "source": [
    "---\n",
    "\n",
    "## 16. Credit_Utilization_Ratio"
   ]
  },
  {
   "cell_type": "code",
   "execution_count": 81,
   "metadata": {},
   "outputs": [
    {
     "data": {
      "text/plain": [
       "dtype('float64')"
      ]
     },
     "execution_count": 81,
     "metadata": {},
     "output_type": "execute_result"
    }
   ],
   "source": [
    "df.Credit_Utilization_Ratio.dtype"
   ]
  },
  {
   "cell_type": "code",
   "execution_count": 82,
   "metadata": {},
   "outputs": [],
   "source": [
    "# Divide by 100 and round it to the 100th\n",
    "\n",
    "df.Credit_Utilization_Ratio = df.Credit_Utilization_Ratio.map(lambda x : round(x/100, ndigits=2))"
   ]
  },
  {
   "cell_type": "code",
   "execution_count": 83,
   "metadata": {},
   "outputs": [
    {
     "data": {
      "text/plain": [
       "array([0.33, 0.38, 0.29, 0.28, 0.39, 0.36, 0.34, 0.24, 0.37, 0.32, 0.35,\n",
       "       0.41, 0.26, 0.4 , 0.25, 0.3 , 0.42, 0.27, 0.23, 0.44, 0.31, 0.22,\n",
       "       0.43, 0.45, 0.46, 0.47, 0.2 , 0.21, 0.48])"
      ]
     },
     "execution_count": 83,
     "metadata": {},
     "output_type": "execute_result"
    }
   ],
   "source": [
    "df.Credit_Utilization_Ratio.unique()"
   ]
  },
  {
   "cell_type": "code",
   "execution_count": 84,
   "metadata": {},
   "outputs": [
    {
     "data": {
      "image/png": "[encoded data removed]",
      "text/plain": [
       "<Figure size 1000x300 with 2 Axes>"
      ]
     },
     "metadata": {},
     "output_type": "display_data"
    }
   ],
   "source": [
    "# Looks Good\n",
    "\n",
    "plt.figure(figsize=(10,3))\n",
    "\n",
    "plt.subplot(1, 2, 1)\n",
    "plt.boxplot(df.Credit_Utilization_Ratio)\n",
    "\n",
    "plt.subplot(1, 2, 2)\n",
    "plt.hist(df.Credit_Utilization_Ratio)\n",
    "\n",
    "plt.show()"
   ]
  },
  {
   "attachments": {},
   "cell_type": "markdown",
   "metadata": {},
   "source": [
    "---\n",
    "\n",
    "## 17. Credit_History_Age"
   ]
  },
  {
   "cell_type": "code",
   "execution_count": 85,
   "metadata": {},
   "outputs": [
    {
     "data": {
      "text/plain": [
       "0     27 Years and 2 Months\n",
       "1     18 Years and 4 Months\n",
       "2     31 Years and 2 Months\n",
       "3    21 Years and 11 Months\n",
       "4     27 Years and 5 Months\n",
       "Name: Credit_History_Age, dtype: object"
      ]
     },
     "execution_count": 85,
     "metadata": {},
     "output_type": "execute_result"
    }
   ],
   "source": [
    "df.Credit_History_Age.head()"
   ]
  },
  {
   "cell_type": "code",
   "execution_count": 86,
   "metadata": {},
   "outputs": [],
   "source": [
    "# Change '00 Years and 00 Months' to integer which represents the calculated month.\n",
    "\n",
    "df.Credit_History_Age = df.Credit_History_Age.map(lambda x : ((int(str(x).split()[0]) * 12) + int(str(x).split()[3])))"
   ]
  },
  {
   "cell_type": "code",
   "execution_count": 87,
   "metadata": {},
   "outputs": [
    {
     "data": {
      "image/png": "[encoded data removed]",
      "text/plain": [
       "<Figure size 1000x300 with 2 Axes>"
      ]
     },
     "metadata": {},
     "output_type": "display_data"
    }
   ],
   "source": [
    "# Looks Good\n",
    "\n",
    "plt.figure(figsize=(10,3))\n",
    "\n",
    "plt.subplot(1, 2, 1)\n",
    "plt.boxplot(df.Credit_History_Age)\n",
    "\n",
    "plt.subplot(1, 2, 2)\n",
    "plt.hist(df.Credit_History_Age)\n",
    "\n",
    "plt.show()"
   ]
  },
  {
   "attachments": {},
   "cell_type": "markdown",
   "metadata": {},
   "source": [
    "---\n",
    "\n",
    "## 18. Credit Score\n",
    "\n",
    "FINALLY, THE DEPENDENT VARIABLE!"
   ]
  },
  {
   "cell_type": "code",
   "execution_count": 88,
   "metadata": {},
   "outputs": [
    {
     "data": {
      "text/plain": [
       "array(['Good', 'Standard', 'Poor'], dtype=object)"
      ]
     },
     "execution_count": 88,
     "metadata": {},
     "output_type": "execute_result"
    }
   ],
   "source": [
    "df.Credit_Score.unique()"
   ]
  },
  {
   "cell_type": "code",
   "execution_count": 94,
   "metadata": {},
   "outputs": [
    {
     "data": {
      "text/plain": [
       "0    2\n",
       "1    1\n",
       "2    2\n",
       "3    1\n",
       "4    1\n",
       "Name: Credit_Score, dtype: int64"
      ]
     },
     "execution_count": 94,
     "metadata": {},
     "output_type": "execute_result"
    }
   ],
   "source": [
    "# Change 'Credit_Score' dependent variable into a discrete variable\n",
    "# 2 - Good\n",
    "# 1 - Standard\n",
    "# 0 - Bad\n",
    "\n",
    "df.Credit_Score = df.Credit_Score.map(lambda x : 2 if x=='Good' else 1 if x=='Standard' else 0)\n",
    "df.Credit_Score.head()"
   ]
  },
  {
   "cell_type": "code",
   "execution_count": 95,
   "metadata": {},
   "outputs": [
    {
     "data": {
      "image/png": "[encoded data removed]",
      "text/plain": [
       "<Figure size 300x300 with 1 Axes>"
      ]
     },
     "metadata": {},
     "output_type": "display_data"
    }
   ],
   "source": [
    "# Looks Good\n",
    "\n",
    "plt.figure(figsize=(3,3))\n",
    "\n",
    "plt.hist(df.Credit_Score)\n",
    "\n",
    "plt.show()"
   ]
  },
  {
   "attachments": {},
   "cell_type": "markdown",
   "metadata": {},
   "source": [
    "---"
   ]
  },
  {
   "cell_type": "code",
   "execution_count": 96,
   "metadata": {},
   "outputs": [
    {
     "name": "stdout",
     "output_type": "stream",
     "text": [
      "<class 'pandas.core.frame.DataFrame'>\n",
      "RangeIndex: 5610 entries, 0 to 5609\n",
      "Data columns (total 15 columns):\n",
      " #   Column                    Non-Null Count  Dtype  \n",
      "---  ------                    --------------  -----  \n",
      " 0   Age                       5610 non-null   int64  \n",
      " 1   Occupation                5610 non-null   object \n",
      " 2   Annual_Income             5610 non-null   int64  \n",
      " 3   Num_Bank_Accounts         5610 non-null   int64  \n",
      " 4   Num_Credit_Card           5610 non-null   int64  \n",
      " 5   Interest_Rate             5610 non-null   float64\n",
      " 6   Num_of_Loan               5610 non-null   int64  \n",
      " 7   Delay_from_due_date       5610 non-null   int64  \n",
      " 8   Num_of_Delayed_Payment    5610 non-null   int64  \n",
      " 9   Num_Credit_Inquiries      5610 non-null   int64  \n",
      " 10  Credit_Mix                5610 non-null   object \n",
      " 11  Outstanding_Debt          5610 non-null   int64  \n",
      " 12  Credit_Utilization_Ratio  5610 non-null   float64\n",
      " 13  Credit_History_Age        5610 non-null   int64  \n",
      " 14  Credit_Score              5610 non-null   int64  \n",
      "dtypes: float64(2), int64(11), object(2)\n",
      "memory usage: 657.5+ KB\n"
     ]
    }
   ],
   "source": [
    "df.info()"
   ]
  },
  {
   "cell_type": "code",
   "execution_count": 97,
   "metadata": {},
   "outputs": [],
   "source": [
    "# NOTE 3 Categorical Variables and 12 Numerical Variables\n",
    "#      5610 Observations and No missing values"
   ]
  },
  {
   "cell_type": "code",
   "execution_count": 98,
   "metadata": {},
   "outputs": [],
   "source": [
    "df.to_csv('data/cleaned_credit_data.csv', index=False)"
   ]
  },
  {
   "cell_type": "code",
   "execution_count": 99,
   "metadata": {},
   "outputs": [
    {
     "data": {
      "text/html": [
       "<div>\n",
       "<style scoped>\n",
       "    .dataframe tbody tr th:only-of-type {\n",
       "        vertical-align: middle;\n",
       "    }\n",
       "\n",
       "    .dataframe tbody tr th {\n",
       "        vertical-align: top;\n",
       "    }\n",
       "\n",
       "    .dataframe thead th {\n",
       "        text-align: right;\n",
       "    }\n",
       "</style>\n",
       "<table border=\"1\" class=\"dataframe\">\n",
       "  <thead>\n",
       "    <tr style=\"text-align: right;\">\n",
       "      <th></th>\n",
       "      <th>Age</th>\n",
       "      <th>Occupation</th>\n",
       "      <th>Annual_Income</th>\n",
       "      <th>Num_Bank_Accounts</th>\n",
       "      <th>Num_Credit_Card</th>\n",
       "      <th>Interest_Rate</th>\n",
       "      <th>Num_of_Loan</th>\n",
       "      <th>Delay_from_due_date</th>\n",
       "      <th>Num_of_Delayed_Payment</th>\n",
       "      <th>Num_Credit_Inquiries</th>\n",
       "      <th>Credit_Mix</th>\n",
       "      <th>Outstanding_Debt</th>\n",
       "      <th>Credit_Utilization_Ratio</th>\n",
       "      <th>Credit_History_Age</th>\n",
       "      <th>Credit_Score</th>\n",
       "    </tr>\n",
       "  </thead>\n",
       "  <tbody>\n",
       "    <tr>\n",
       "      <th>0</th>\n",
       "      <td>28</td>\n",
       "      <td>Teacher</td>\n",
       "      <td>34847</td>\n",
       "      <td>2</td>\n",
       "      <td>4</td>\n",
       "      <td>0.06</td>\n",
       "      <td>1</td>\n",
       "      <td>3</td>\n",
       "      <td>4</td>\n",
       "      <td>2</td>\n",
       "      <td>Good</td>\n",
       "      <td>605</td>\n",
       "      <td>0.33</td>\n",
       "      <td>326</td>\n",
       "      <td>2</td>\n",
       "    </tr>\n",
       "    <tr>\n",
       "      <th>1</th>\n",
       "      <td>34</td>\n",
       "      <td>Engineer</td>\n",
       "      <td>143162</td>\n",
       "      <td>1</td>\n",
       "      <td>5</td>\n",
       "      <td>0.08</td>\n",
       "      <td>3</td>\n",
       "      <td>8</td>\n",
       "      <td>6</td>\n",
       "      <td>3</td>\n",
       "      <td>Good</td>\n",
       "      <td>1303</td>\n",
       "      <td>0.38</td>\n",
       "      <td>220</td>\n",
       "      <td>1</td>\n",
       "    </tr>\n",
       "    <tr>\n",
       "      <th>2</th>\n",
       "      <td>34</td>\n",
       "      <td>Lawyer</td>\n",
       "      <td>131313</td>\n",
       "      <td>0</td>\n",
       "      <td>1</td>\n",
       "      <td>0.08</td>\n",
       "      <td>2</td>\n",
       "      <td>0</td>\n",
       "      <td>2</td>\n",
       "      <td>4</td>\n",
       "      <td>Good</td>\n",
       "      <td>352</td>\n",
       "      <td>0.29</td>\n",
       "      <td>374</td>\n",
       "      <td>2</td>\n",
       "    </tr>\n",
       "    <tr>\n",
       "      <th>3</th>\n",
       "      <td>24</td>\n",
       "      <td>Doctor</td>\n",
       "      <td>114838</td>\n",
       "      <td>2</td>\n",
       "      <td>5</td>\n",
       "      <td>0.07</td>\n",
       "      <td>3</td>\n",
       "      <td>11</td>\n",
       "      <td>11</td>\n",
       "      <td>8</td>\n",
       "      <td>Good</td>\n",
       "      <td>1377</td>\n",
       "      <td>0.28</td>\n",
       "      <td>263</td>\n",
       "      <td>1</td>\n",
       "    </tr>\n",
       "    <tr>\n",
       "      <th>4</th>\n",
       "      <td>36</td>\n",
       "      <td>Entrepreneur</td>\n",
       "      <td>54392</td>\n",
       "      <td>6</td>\n",
       "      <td>4</td>\n",
       "      <td>0.14</td>\n",
       "      <td>3</td>\n",
       "      <td>10</td>\n",
       "      <td>8</td>\n",
       "      <td>7</td>\n",
       "      <td>Standard</td>\n",
       "      <td>179</td>\n",
       "      <td>0.33</td>\n",
       "      <td>329</td>\n",
       "      <td>1</td>\n",
       "    </tr>\n",
       "    <tr>\n",
       "      <th>...</th>\n",
       "      <td>...</td>\n",
       "      <td>...</td>\n",
       "      <td>...</td>\n",
       "      <td>...</td>\n",
       "      <td>...</td>\n",
       "      <td>...</td>\n",
       "      <td>...</td>\n",
       "      <td>...</td>\n",
       "      <td>...</td>\n",
       "      <td>...</td>\n",
       "      <td>...</td>\n",
       "      <td>...</td>\n",
       "      <td>...</td>\n",
       "      <td>...</td>\n",
       "      <td>...</td>\n",
       "    </tr>\n",
       "    <tr>\n",
       "      <th>5605</th>\n",
       "      <td>39</td>\n",
       "      <td>Writer</td>\n",
       "      <td>87695</td>\n",
       "      <td>2</td>\n",
       "      <td>7</td>\n",
       "      <td>0.07</td>\n",
       "      <td>0</td>\n",
       "      <td>5</td>\n",
       "      <td>10</td>\n",
       "      <td>6</td>\n",
       "      <td>Good</td>\n",
       "      <td>361</td>\n",
       "      <td>0.40</td>\n",
       "      <td>236</td>\n",
       "      <td>1</td>\n",
       "    </tr>\n",
       "    <tr>\n",
       "      <th>5606</th>\n",
       "      <td>38</td>\n",
       "      <td>Media_Manager</td>\n",
       "      <td>139664</td>\n",
       "      <td>3</td>\n",
       "      <td>6</td>\n",
       "      <td>0.12</td>\n",
       "      <td>4</td>\n",
       "      <td>14</td>\n",
       "      <td>12</td>\n",
       "      <td>9</td>\n",
       "      <td>Standard</td>\n",
       "      <td>365</td>\n",
       "      <td>0.30</td>\n",
       "      <td>362</td>\n",
       "      <td>2</td>\n",
       "    </tr>\n",
       "    <tr>\n",
       "      <th>5607</th>\n",
       "      <td>33</td>\n",
       "      <td>Media_Manager</td>\n",
       "      <td>59146</td>\n",
       "      <td>3</td>\n",
       "      <td>6</td>\n",
       "      <td>0.06</td>\n",
       "      <td>1</td>\n",
       "      <td>8</td>\n",
       "      <td>6</td>\n",
       "      <td>5</td>\n",
       "      <td>Good</td>\n",
       "      <td>418</td>\n",
       "      <td>0.28</td>\n",
       "      <td>248</td>\n",
       "      <td>1</td>\n",
       "    </tr>\n",
       "    <tr>\n",
       "      <th>5608</th>\n",
       "      <td>29</td>\n",
       "      <td>Architect</td>\n",
       "      <td>20002</td>\n",
       "      <td>10</td>\n",
       "      <td>8</td>\n",
       "      <td>0.29</td>\n",
       "      <td>5</td>\n",
       "      <td>33</td>\n",
       "      <td>25</td>\n",
       "      <td>9</td>\n",
       "      <td>Bad</td>\n",
       "      <td>3571</td>\n",
       "      <td>0.37</td>\n",
       "      <td>75</td>\n",
       "      <td>1</td>\n",
       "    </tr>\n",
       "    <tr>\n",
       "      <th>5609</th>\n",
       "      <td>25</td>\n",
       "      <td>Mechanic</td>\n",
       "      <td>39628</td>\n",
       "      <td>4</td>\n",
       "      <td>6</td>\n",
       "      <td>0.07</td>\n",
       "      <td>2</td>\n",
       "      <td>18</td>\n",
       "      <td>6</td>\n",
       "      <td>3</td>\n",
       "      <td>Good</td>\n",
       "      <td>502</td>\n",
       "      <td>0.34</td>\n",
       "      <td>382</td>\n",
       "      <td>0</td>\n",
       "    </tr>\n",
       "  </tbody>\n",
       "</table>\n",
       "<p>5610 rows × 15 columns</p>\n",
       "</div>"
      ],
      "text/plain": [
       "      Age     Occupation  Annual_Income  Num_Bank_Accounts  Num_Credit_Card  \\\n",
       "0      28        Teacher          34847                  2                4   \n",
       "1      34       Engineer         143162                  1                5   \n",
       "2      34         Lawyer         131313                  0                1   \n",
       "3      24         Doctor         114838                  2                5   \n",
       "4      36   Entrepreneur          54392                  6                4   \n",
       "...   ...            ...            ...                ...              ...   \n",
       "5605   39         Writer          87695                  2                7   \n",
       "5606   38  Media_Manager         139664                  3                6   \n",
       "5607   33  Media_Manager          59146                  3                6   \n",
       "5608   29      Architect          20002                 10                8   \n",
       "5609   25       Mechanic          39628                  4                6   \n",
       "\n",
       "      Interest_Rate  Num_of_Loan  Delay_from_due_date  Num_of_Delayed_Payment  \\\n",
       "0              0.06            1                    3                       4   \n",
       "1              0.08            3                    8                       6   \n",
       "2              0.08            2                    0                       2   \n",
       "3              0.07            3                   11                      11   \n",
       "4              0.14            3                   10                       8   \n",
       "...             ...          ...                  ...                     ...   \n",
       "5605           0.07            0                    5                      10   \n",
       "5606           0.12            4                   14                      12   \n",
       "5607           0.06            1                    8                       6   \n",
       "5608           0.29            5                   33                      25   \n",
       "5609           0.07            2                   18                       6   \n",
       "\n",
       "      Num_Credit_Inquiries Credit_Mix  Outstanding_Debt  \\\n",
       "0                        2       Good               605   \n",
       "1                        3       Good              1303   \n",
       "2                        4       Good               352   \n",
       "3                        8       Good              1377   \n",
       "4                        7   Standard               179   \n",
       "...                    ...        ...               ...   \n",
       "5605                     6       Good               361   \n",
       "5606                     9   Standard               365   \n",
       "5607                     5       Good               418   \n",
       "5608                     9        Bad              3571   \n",
       "5609                     3       Good               502   \n",
       "\n",
       "      Credit_Utilization_Ratio  Credit_History_Age  Credit_Score  \n",
       "0                         0.33                 326             2  \n",
       "1                         0.38                 220             1  \n",
       "2                         0.29                 374             2  \n",
       "3                         0.28                 263             1  \n",
       "4                         0.33                 329             1  \n",
       "...                        ...                 ...           ...  \n",
       "5605                      0.40                 236             1  \n",
       "5606                      0.30                 362             2  \n",
       "5607                      0.28                 248             1  \n",
       "5608                      0.37                  75             1  \n",
       "5609                      0.34                 382             0  \n",
       "\n",
       "[5610 rows x 15 columns]"
      ]
     },
     "execution_count": 99,
     "metadata": {},
     "output_type": "execute_result"
    }
   ],
   "source": [
    "pd.read_csv('data/cleaned_credit_data.csv')"
   ]
  },
  {
   "cell_type": "markdown",
   "metadata": {},
   "source": [
    "# DONE"
   ]
  }
 ],
 "metadata": {
  "kernelspec": {
   "display_name": "base",
   "language": "python",
   "name": "python3"
  },
  "language_info": {
   "codemirror_mode": {
    "name": "ipython",
    "version": 3
   },
   "file_extension": ".py",
   "mimetype": "text/x-python",
   "name": "python",
   "nbconvert_exporter": "python",
   "pygments_lexer": "ipython3",
   "version": "3.9.15"
  },
  "orig_nbformat": 4
 },
 "nbformat": 4,
 "nbformat_minor": 2
}
